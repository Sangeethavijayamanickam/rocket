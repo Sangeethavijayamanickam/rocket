{
 "cells": [
  {
   "cell_type": "code",
   "execution_count": 192,
   "id": "fb04b4d3",
   "metadata": {},
   "outputs": [],
   "source": [
    "import pandas as pd\n",
    "import numpy as np\n",
    "import matplotlib.pyplot as plt\n",
    "import seaborn as sns\n",
    "from scipy import stats\n",
    "import statsmodels.api as sm\n",
    "from scipy.stats import pearsonr\n",
    "from sklearn.ensemble import RandomForestRegressor\n"
   ]
  },
  {
   "cell_type": "code",
   "execution_count": 193,
   "id": "a5415f96",
   "metadata": {},
   "outputs": [],
   "source": [
    "flight = pd.read_excel(\"C:/Users/Dell/Downloads/Flight .xlsx\")"
   ]
  },
  {
   "cell_type": "code",
   "execution_count": 194,
   "id": "e60acd06",
   "metadata": {},
   "outputs": [
    {
     "data": {
      "text/html": [
       "<div>\n",
       "<style scoped>\n",
       "    .dataframe tbody tr th:only-of-type {\n",
       "        vertical-align: middle;\n",
       "    }\n",
       "\n",
       "    .dataframe tbody tr th {\n",
       "        vertical-align: top;\n",
       "    }\n",
       "\n",
       "    .dataframe thead th {\n",
       "        text-align: right;\n",
       "    }\n",
       "</style>\n",
       "<table border=\"1\" class=\"dataframe\">\n",
       "  <thead>\n",
       "    <tr style=\"text-align: right;\">\n",
       "      <th></th>\n",
       "      <th>Person</th>\n",
       "      <th>Item_Identifier</th>\n",
       "      <th>Length</th>\n",
       "      <th>Breadth</th>\n",
       "      <th>PaperQuality</th>\n",
       "      <th>Angle</th>\n",
       "      <th>Foldings</th>\n",
       "      <th>Windspeed</th>\n",
       "      <th>Dominanthand</th>\n",
       "      <th>Distance</th>\n",
       "    </tr>\n",
       "  </thead>\n",
       "  <tbody>\n",
       "    <tr>\n",
       "      <th>0</th>\n",
       "      <td>Kevin</td>\n",
       "      <td>Som</td>\n",
       "      <td>29.0</td>\n",
       "      <td>20.0</td>\n",
       "      <td>A</td>\n",
       "      <td>U</td>\n",
       "      <td>8.0</td>\n",
       "      <td>On</td>\n",
       "      <td>L</td>\n",
       "      <td>5.0</td>\n",
       "    </tr>\n",
       "    <tr>\n",
       "      <th>1</th>\n",
       "      <td>Kevin</td>\n",
       "      <td>kevin</td>\n",
       "      <td>23.0</td>\n",
       "      <td>16.0</td>\n",
       "      <td>B</td>\n",
       "      <td>U</td>\n",
       "      <td>8.0</td>\n",
       "      <td>On</td>\n",
       "      <td>L</td>\n",
       "      <td>5.0</td>\n",
       "    </tr>\n",
       "    <tr>\n",
       "      <th>2</th>\n",
       "      <td>Kevin</td>\n",
       "      <td>RR</td>\n",
       "      <td>NaN</td>\n",
       "      <td>18.0</td>\n",
       "      <td>A</td>\n",
       "      <td>L</td>\n",
       "      <td>10.0</td>\n",
       "      <td>On</td>\n",
       "      <td>R</td>\n",
       "      <td>6.0</td>\n",
       "    </tr>\n",
       "    <tr>\n",
       "      <th>3</th>\n",
       "      <td>Priya</td>\n",
       "      <td>Nithya</td>\n",
       "      <td>27.0</td>\n",
       "      <td>20.0</td>\n",
       "      <td>A</td>\n",
       "      <td>U</td>\n",
       "      <td>10.0</td>\n",
       "      <td>On</td>\n",
       "      <td>R</td>\n",
       "      <td>4.0</td>\n",
       "    </tr>\n",
       "    <tr>\n",
       "      <th>4</th>\n",
       "      <td>Priya</td>\n",
       "      <td>Priya</td>\n",
       "      <td>29.5</td>\n",
       "      <td>17.5</td>\n",
       "      <td>B</td>\n",
       "      <td>U</td>\n",
       "      <td>5.0</td>\n",
       "      <td>Off</td>\n",
       "      <td>R</td>\n",
       "      <td>8.0</td>\n",
       "    </tr>\n",
       "  </tbody>\n",
       "</table>\n",
       "</div>"
      ],
      "text/plain": [
       "  Person Item_Identifier  Length  Breadth PaperQuality Angle  Foldings  \\\n",
       "0  Kevin             Som    29.0     20.0            A     U       8.0   \n",
       "1  Kevin           kevin    23.0     16.0            B     U       8.0   \n",
       "2  Kevin              RR     NaN     18.0            A     L      10.0   \n",
       "3  Priya          Nithya    27.0     20.0            A     U      10.0   \n",
       "4  Priya           Priya    29.5     17.5            B     U       5.0   \n",
       "\n",
       "  Windspeed  Dominanthand  Distance  \n",
       "0         On            L       5.0  \n",
       "1         On            L       5.0  \n",
       "2         On            R       6.0  \n",
       "3         On            R       4.0  \n",
       "4        Off            R       8.0  "
      ]
     },
     "execution_count": 194,
     "metadata": {},
     "output_type": "execute_result"
    }
   ],
   "source": [
    "flight.head(5)"
   ]
  },
  {
   "cell_type": "code",
   "execution_count": 195,
   "id": "45816d3a",
   "metadata": {},
   "outputs": [
    {
     "data": {
      "text/html": [
       "<div>\n",
       "<style scoped>\n",
       "    .dataframe tbody tr th:only-of-type {\n",
       "        vertical-align: middle;\n",
       "    }\n",
       "\n",
       "    .dataframe tbody tr th {\n",
       "        vertical-align: top;\n",
       "    }\n",
       "\n",
       "    .dataframe thead th {\n",
       "        text-align: right;\n",
       "    }\n",
       "</style>\n",
       "<table border=\"1\" class=\"dataframe\">\n",
       "  <thead>\n",
       "    <tr style=\"text-align: right;\">\n",
       "      <th></th>\n",
       "      <th>Person</th>\n",
       "      <th>Item_Identifier</th>\n",
       "      <th>Length</th>\n",
       "      <th>Breadth</th>\n",
       "      <th>PaperQuality</th>\n",
       "      <th>Angle</th>\n",
       "      <th>Foldings</th>\n",
       "      <th>Windspeed</th>\n",
       "      <th>Dominanthand</th>\n",
       "      <th>Distance</th>\n",
       "    </tr>\n",
       "  </thead>\n",
       "  <tbody>\n",
       "    <tr>\n",
       "      <th>83</th>\n",
       "      <td>Priya</td>\n",
       "      <td>Priya</td>\n",
       "      <td>29.5</td>\n",
       "      <td>17.5</td>\n",
       "      <td>B</td>\n",
       "      <td>U</td>\n",
       "      <td>5.0</td>\n",
       "      <td>Off</td>\n",
       "      <td>R</td>\n",
       "      <td>7.0</td>\n",
       "    </tr>\n",
       "    <tr>\n",
       "      <th>84</th>\n",
       "      <td>Priya</td>\n",
       "      <td>Sathana</td>\n",
       "      <td>NaN</td>\n",
       "      <td>18.5</td>\n",
       "      <td>B</td>\n",
       "      <td>L</td>\n",
       "      <td>5.0</td>\n",
       "      <td>Off</td>\n",
       "      <td>R</td>\n",
       "      <td>5.0</td>\n",
       "    </tr>\n",
       "    <tr>\n",
       "      <th>85</th>\n",
       "      <td>Priya</td>\n",
       "      <td>Yogashree</td>\n",
       "      <td>30.0</td>\n",
       "      <td>19.0</td>\n",
       "      <td>NaN</td>\n",
       "      <td>U</td>\n",
       "      <td>8.0</td>\n",
       "      <td>Off</td>\n",
       "      <td>R</td>\n",
       "      <td>4.0</td>\n",
       "    </tr>\n",
       "    <tr>\n",
       "      <th>86</th>\n",
       "      <td>Giri</td>\n",
       "      <td>giri</td>\n",
       "      <td>25.0</td>\n",
       "      <td>17.0</td>\n",
       "      <td>B</td>\n",
       "      <td>U</td>\n",
       "      <td>8.0</td>\n",
       "      <td>On</td>\n",
       "      <td>R</td>\n",
       "      <td>5.0</td>\n",
       "    </tr>\n",
       "    <tr>\n",
       "      <th>87</th>\n",
       "      <td>Giri</td>\n",
       "      <td>Kiruthik</td>\n",
       "      <td>28.5</td>\n",
       "      <td>20.5</td>\n",
       "      <td>B</td>\n",
       "      <td>L</td>\n",
       "      <td>8.0</td>\n",
       "      <td>Off</td>\n",
       "      <td>R</td>\n",
       "      <td>7.0</td>\n",
       "    </tr>\n",
       "  </tbody>\n",
       "</table>\n",
       "</div>"
      ],
      "text/plain": [
       "   Person Item_Identifier  Length  Breadth PaperQuality Angle  Foldings  \\\n",
       "83  Priya           Priya    29.5     17.5            B     U       5.0   \n",
       "84  Priya         Sathana     NaN     18.5            B     L       5.0   \n",
       "85  Priya       Yogashree    30.0     19.0          NaN     U       8.0   \n",
       "86   Giri            giri    25.0     17.0            B     U       8.0   \n",
       "87   Giri        Kiruthik    28.5     20.5            B     L       8.0   \n",
       "\n",
       "   Windspeed  Dominanthand  Distance  \n",
       "83        Off            R       7.0  \n",
       "84        Off            R       5.0  \n",
       "85        Off            R       4.0  \n",
       "86         On            R       5.0  \n",
       "87        Off            R       7.0  "
      ]
     },
     "execution_count": 195,
     "metadata": {},
     "output_type": "execute_result"
    }
   ],
   "source": [
    "flight.tail(5)"
   ]
  },
  {
   "cell_type": "code",
   "execution_count": 121,
   "id": "18eb632b",
   "metadata": {},
   "outputs": [
    {
     "data": {
      "text/plain": [
       "(88, 10)"
      ]
     },
     "execution_count": 121,
     "metadata": {},
     "output_type": "execute_result"
    }
   ],
   "source": [
    "flight.shape"
   ]
  },
  {
   "cell_type": "code",
   "execution_count": 122,
   "id": "1fba86e0",
   "metadata": {},
   "outputs": [
    {
     "data": {
      "text/html": [
       "<div>\n",
       "<style scoped>\n",
       "    .dataframe tbody tr th:only-of-type {\n",
       "        vertical-align: middle;\n",
       "    }\n",
       "\n",
       "    .dataframe tbody tr th {\n",
       "        vertical-align: top;\n",
       "    }\n",
       "\n",
       "    .dataframe thead th {\n",
       "        text-align: right;\n",
       "    }\n",
       "</style>\n",
       "<table border=\"1\" class=\"dataframe\">\n",
       "  <thead>\n",
       "    <tr style=\"text-align: right;\">\n",
       "      <th></th>\n",
       "      <th>Length</th>\n",
       "      <th>Breadth</th>\n",
       "      <th>Foldings</th>\n",
       "      <th>Distance</th>\n",
       "    </tr>\n",
       "  </thead>\n",
       "  <tbody>\n",
       "    <tr>\n",
       "      <th>count</th>\n",
       "      <td>71.000000</td>\n",
       "      <td>88.000000</td>\n",
       "      <td>88.000000</td>\n",
       "      <td>88.000000</td>\n",
       "    </tr>\n",
       "    <tr>\n",
       "      <th>mean</th>\n",
       "      <td>26.708451</td>\n",
       "      <td>18.500000</td>\n",
       "      <td>8.136364</td>\n",
       "      <td>6.090909</td>\n",
       "    </tr>\n",
       "    <tr>\n",
       "      <th>std</th>\n",
       "      <td>11.920268</td>\n",
       "      <td>1.339068</td>\n",
       "      <td>1.736570</td>\n",
       "      <td>1.974762</td>\n",
       "    </tr>\n",
       "    <tr>\n",
       "      <th>min</th>\n",
       "      <td>0.000000</td>\n",
       "      <td>16.000000</td>\n",
       "      <td>5.000000</td>\n",
       "      <td>1.000000</td>\n",
       "    </tr>\n",
       "    <tr>\n",
       "      <th>25%</th>\n",
       "      <td>22.500000</td>\n",
       "      <td>17.500000</td>\n",
       "      <td>8.000000</td>\n",
       "      <td>5.000000</td>\n",
       "    </tr>\n",
       "    <tr>\n",
       "      <th>50%</th>\n",
       "      <td>28.500000</td>\n",
       "      <td>18.500000</td>\n",
       "      <td>8.000000</td>\n",
       "      <td>6.000000</td>\n",
       "    </tr>\n",
       "    <tr>\n",
       "      <th>75%</th>\n",
       "      <td>29.500000</td>\n",
       "      <td>20.000000</td>\n",
       "      <td>10.000000</td>\n",
       "      <td>7.000000</td>\n",
       "    </tr>\n",
       "    <tr>\n",
       "      <th>max</th>\n",
       "      <td>98.000000</td>\n",
       "      <td>20.500000</td>\n",
       "      <td>10.000000</td>\n",
       "      <td>11.000000</td>\n",
       "    </tr>\n",
       "  </tbody>\n",
       "</table>\n",
       "</div>"
      ],
      "text/plain": [
       "          Length    Breadth   Foldings   Distance\n",
       "count  71.000000  88.000000  88.000000  88.000000\n",
       "mean   26.708451  18.500000   8.136364   6.090909\n",
       "std    11.920268   1.339068   1.736570   1.974762\n",
       "min     0.000000  16.000000   5.000000   1.000000\n",
       "25%    22.500000  17.500000   8.000000   5.000000\n",
       "50%    28.500000  18.500000   8.000000   6.000000\n",
       "75%    29.500000  20.000000  10.000000   7.000000\n",
       "max    98.000000  20.500000  10.000000  11.000000"
      ]
     },
     "execution_count": 122,
     "metadata": {},
     "output_type": "execute_result"
    }
   ],
   "source": [
    "flight.describe()"
   ]
  },
  {
   "cell_type": "code",
   "execution_count": 123,
   "id": "c59c86a3",
   "metadata": {},
   "outputs": [
    {
     "data": {
      "text/plain": [
       "Index(['Person', 'Item_Identifier', 'Length', 'Breadth', 'PaperQuality',\n",
       "       'Angle', 'Foldings', 'Windspeed ', 'Dominanthand', 'Distance'],\n",
       "      dtype='object')"
      ]
     },
     "execution_count": 123,
     "metadata": {},
     "output_type": "execute_result"
    }
   ],
   "source": [
    "flight.columns"
   ]
  },
  {
   "cell_type": "code",
   "execution_count": 124,
   "id": "179c8936",
   "metadata": {},
   "outputs": [
    {
     "data": {
      "text/plain": [
       "<bound method DataFrame.nunique of    Person Item_Identifier  Length  Breadth PaperQuality Angle  Foldings  \\\n",
       "0   Kevin             Som    29.0     20.0            A     U       8.0   \n",
       "1   Kevin           kevin    23.0     16.0            B     U       8.0   \n",
       "2   Kevin              RR     NaN     18.0            A     L      10.0   \n",
       "3   Priya          Nithya    27.0     20.0            A     U      10.0   \n",
       "4   Priya           Priya    29.5     17.5            B     U       5.0   \n",
       "..    ...             ...     ...      ...          ...   ...       ...   \n",
       "83  Priya           Priya    29.5     17.5            B     U       5.0   \n",
       "84  Priya         Sathana     NaN     18.5            B     L       5.0   \n",
       "85  Priya       Yogashree    30.0     19.0          NaN     U       8.0   \n",
       "86   Giri            giri    25.0     17.0            B     U       8.0   \n",
       "87   Giri        Kiruthik    28.5     20.5            B     L       8.0   \n",
       "\n",
       "   Windspeed  Dominanthand  Distance  \n",
       "0          On            L       5.0  \n",
       "1          On            L       5.0  \n",
       "2          On            R       6.0  \n",
       "3          On            R       4.0  \n",
       "4         Off            R       8.0  \n",
       "..        ...          ...       ...  \n",
       "83        Off            R       7.0  \n",
       "84        Off            R       5.0  \n",
       "85        Off            R       4.0  \n",
       "86         On            R       5.0  \n",
       "87        Off            R       7.0  \n",
       "\n",
       "[88 rows x 10 columns]>"
      ]
     },
     "execution_count": 124,
     "metadata": {},
     "output_type": "execute_result"
    }
   ],
   "source": [
    "flight.nunique"
   ]
  },
  {
   "cell_type": "code",
   "execution_count": 125,
   "id": "ab9adb7d",
   "metadata": {},
   "outputs": [
    {
     "data": {
      "text/plain": [
       "Person              0\n",
       "Item_Identifier     0\n",
       "Length             17\n",
       "Breadth             0\n",
       "PaperQuality        8\n",
       "Angle               4\n",
       "Foldings            0\n",
       "Windspeed           0\n",
       "Dominanthand        0\n",
       "Distance            0\n",
       "dtype: int64"
      ]
     },
     "execution_count": 125,
     "metadata": {},
     "output_type": "execute_result"
    }
   ],
   "source": []
  },
  {
   "cell_type": "code",
   "execution_count": 126,
   "id": "91c1dc41",
   "metadata": {},
   "outputs": [],
   "source": [
    "flight.Length.fillna(flight.Length.median(),inplace = True)\n",
    "\n"
   ]
  },
  {
   "cell_type": "code",
   "execution_count": 127,
   "id": "f2b816ea",
   "metadata": {},
   "outputs": [
    {
     "data": {
      "text/plain": [
       "0"
      ]
     },
     "execution_count": 127,
     "metadata": {},
     "output_type": "execute_result"
    }
   ],
   "source": [
    "flight.Length.isnull().sum()\n"
   ]
  },
  {
   "cell_type": "code",
   "execution_count": 128,
   "id": "a9dfc0a8",
   "metadata": {},
   "outputs": [],
   "source": [
    "flight.PaperQuality.fillna('others',inplace = True)"
   ]
  },
  {
   "cell_type": "code",
   "execution_count": 129,
   "id": "f534dc6b",
   "metadata": {},
   "outputs": [
    {
     "data": {
      "text/plain": [
       "0"
      ]
     },
     "execution_count": 129,
     "metadata": {},
     "output_type": "execute_result"
    }
   ],
   "source": [
    "flight.PaperQuality.isnull().sum()"
   ]
  },
  {
   "cell_type": "code",
   "execution_count": 130,
   "id": "9d5e822f",
   "metadata": {},
   "outputs": [],
   "source": [
    "flight.Angle.fillna('others',inplace = True)\n",
    "\n"
   ]
  },
  {
   "cell_type": "code",
   "execution_count": 131,
   "id": "4778ca32",
   "metadata": {},
   "outputs": [
    {
     "data": {
      "text/plain": [
       "0"
      ]
     },
     "execution_count": 131,
     "metadata": {},
     "output_type": "execute_result"
    }
   ],
   "source": [
    "flight.Angle.isnull().sum()\n"
   ]
  },
  {
   "cell_type": "markdown",
   "id": "8de6ac32",
   "metadata": {},
   "source": [
    "checking for outlier\n",
    "\n",
    "    "
   ]
  },
  {
   "cell_type": "code",
   "execution_count": 132,
   "id": "867f323e",
   "metadata": {},
   "outputs": [
    {
     "data": {
      "text/plain": [
       "{'whiskers': [<matplotlib.lines.Line2D at 0x1b2b717ddf0>,\n",
       "  <matplotlib.lines.Line2D at 0x1b2b717d8e0>],\n",
       " 'caps': [<matplotlib.lines.Line2D at 0x1b2b717dc70>,\n",
       "  <matplotlib.lines.Line2D at 0x1b2b717d280>],\n",
       " 'boxes': [<matplotlib.lines.Line2D at 0x1b2b6fee7c0>],\n",
       " 'medians': [<matplotlib.lines.Line2D at 0x1b2b71b71c0>],\n",
       " 'fliers': [<matplotlib.lines.Line2D at 0x1b2b71b7550>],\n",
       " 'means': []}"
      ]
     },
     "execution_count": 132,
     "metadata": {},
     "output_type": "execute_result"
    },
    {
     "data": {
      "image/png": "[encoded data removed]",
      "text/plain": [
       "<Figure size 432x288 with 1 Axes>"
      ]
     },
     "metadata": {
      "needs_background": "light"
     },
     "output_type": "display_data"
    }
   ],
   "source": [
    "plt.boxplot(flight.Length)"
   ]
  },
  {
   "cell_type": "code",
   "execution_count": 133,
   "id": "d6b4bca8",
   "metadata": {},
   "outputs": [
    {
     "name": "stdout",
     "output_type": "stream",
     "text": [
      "5.0\n"
     ]
    }
   ],
   "source": [
    "q3 = flight.Length.quantile(0.75)\n",
    "q1 = flight.Length.quantile(0.25)\n",
    "iqr=q3-q1\n",
    "print(iqr)"
   ]
  },
  {
   "cell_type": "code",
   "execution_count": 134,
   "id": "0d5dd17f",
   "metadata": {},
   "outputs": [
    {
     "name": "stdout",
     "output_type": "stream",
     "text": [
      "37.0\n",
      "17.0\n"
     ]
    }
   ],
   "source": [
    "ue=q3+1.5*(iqr)\n",
    "print(ue)\n",
    "le=q1-1.5*(iqr)\n",
    "print(le)"
   ]
  },
  {
   "cell_type": "code",
   "execution_count": 135,
   "id": "9b87f96a",
   "metadata": {},
   "outputs": [
    {
     "data": {
      "text/html": [
       "<div>\n",
       "<style scoped>\n",
       "    .dataframe tbody tr th:only-of-type {\n",
       "        vertical-align: middle;\n",
       "    }\n",
       "\n",
       "    .dataframe tbody tr th {\n",
       "        vertical-align: top;\n",
       "    }\n",
       "\n",
       "    .dataframe thead th {\n",
       "        text-align: right;\n",
       "    }\n",
       "</style>\n",
       "<table border=\"1\" class=\"dataframe\">\n",
       "  <thead>\n",
       "    <tr style=\"text-align: right;\">\n",
       "      <th></th>\n",
       "      <th>Person</th>\n",
       "      <th>Item_Identifier</th>\n",
       "      <th>Length</th>\n",
       "      <th>Breadth</th>\n",
       "      <th>PaperQuality</th>\n",
       "      <th>Angle</th>\n",
       "      <th>Foldings</th>\n",
       "      <th>Windspeed</th>\n",
       "      <th>Dominanthand</th>\n",
       "      <th>Distance</th>\n",
       "    </tr>\n",
       "  </thead>\n",
       "  <tbody>\n",
       "    <tr>\n",
       "      <th>0</th>\n",
       "      <td>Kevin</td>\n",
       "      <td>Som</td>\n",
       "      <td>29.0</td>\n",
       "      <td>20.0</td>\n",
       "      <td>A</td>\n",
       "      <td>U</td>\n",
       "      <td>8.0</td>\n",
       "      <td>On</td>\n",
       "      <td>L</td>\n",
       "      <td>5.0</td>\n",
       "    </tr>\n",
       "    <tr>\n",
       "      <th>1</th>\n",
       "      <td>Kevin</td>\n",
       "      <td>kevin</td>\n",
       "      <td>23.0</td>\n",
       "      <td>16.0</td>\n",
       "      <td>B</td>\n",
       "      <td>U</td>\n",
       "      <td>8.0</td>\n",
       "      <td>On</td>\n",
       "      <td>L</td>\n",
       "      <td>5.0</td>\n",
       "    </tr>\n",
       "    <tr>\n",
       "      <th>2</th>\n",
       "      <td>Kevin</td>\n",
       "      <td>RR</td>\n",
       "      <td>28.5</td>\n",
       "      <td>18.0</td>\n",
       "      <td>A</td>\n",
       "      <td>L</td>\n",
       "      <td>10.0</td>\n",
       "      <td>On</td>\n",
       "      <td>R</td>\n",
       "      <td>6.0</td>\n",
       "    </tr>\n",
       "    <tr>\n",
       "      <th>3</th>\n",
       "      <td>Priya</td>\n",
       "      <td>Nithya</td>\n",
       "      <td>27.0</td>\n",
       "      <td>20.0</td>\n",
       "      <td>A</td>\n",
       "      <td>U</td>\n",
       "      <td>10.0</td>\n",
       "      <td>On</td>\n",
       "      <td>R</td>\n",
       "      <td>4.0</td>\n",
       "    </tr>\n",
       "    <tr>\n",
       "      <th>4</th>\n",
       "      <td>Priya</td>\n",
       "      <td>Priya</td>\n",
       "      <td>29.5</td>\n",
       "      <td>17.5</td>\n",
       "      <td>B</td>\n",
       "      <td>U</td>\n",
       "      <td>5.0</td>\n",
       "      <td>Off</td>\n",
       "      <td>R</td>\n",
       "      <td>8.0</td>\n",
       "    </tr>\n",
       "    <tr>\n",
       "      <th>...</th>\n",
       "      <td>...</td>\n",
       "      <td>...</td>\n",
       "      <td>...</td>\n",
       "      <td>...</td>\n",
       "      <td>...</td>\n",
       "      <td>...</td>\n",
       "      <td>...</td>\n",
       "      <td>...</td>\n",
       "      <td>...</td>\n",
       "      <td>...</td>\n",
       "    </tr>\n",
       "    <tr>\n",
       "      <th>83</th>\n",
       "      <td>Priya</td>\n",
       "      <td>Priya</td>\n",
       "      <td>29.5</td>\n",
       "      <td>17.5</td>\n",
       "      <td>B</td>\n",
       "      <td>U</td>\n",
       "      <td>5.0</td>\n",
       "      <td>Off</td>\n",
       "      <td>R</td>\n",
       "      <td>7.0</td>\n",
       "    </tr>\n",
       "    <tr>\n",
       "      <th>84</th>\n",
       "      <td>Priya</td>\n",
       "      <td>Sathana</td>\n",
       "      <td>28.5</td>\n",
       "      <td>18.5</td>\n",
       "      <td>B</td>\n",
       "      <td>L</td>\n",
       "      <td>5.0</td>\n",
       "      <td>Off</td>\n",
       "      <td>R</td>\n",
       "      <td>5.0</td>\n",
       "    </tr>\n",
       "    <tr>\n",
       "      <th>85</th>\n",
       "      <td>Priya</td>\n",
       "      <td>Yogashree</td>\n",
       "      <td>30.0</td>\n",
       "      <td>19.0</td>\n",
       "      <td>others</td>\n",
       "      <td>U</td>\n",
       "      <td>8.0</td>\n",
       "      <td>Off</td>\n",
       "      <td>R</td>\n",
       "      <td>4.0</td>\n",
       "    </tr>\n",
       "    <tr>\n",
       "      <th>86</th>\n",
       "      <td>Giri</td>\n",
       "      <td>giri</td>\n",
       "      <td>25.0</td>\n",
       "      <td>17.0</td>\n",
       "      <td>B</td>\n",
       "      <td>U</td>\n",
       "      <td>8.0</td>\n",
       "      <td>On</td>\n",
       "      <td>R</td>\n",
       "      <td>5.0</td>\n",
       "    </tr>\n",
       "    <tr>\n",
       "      <th>87</th>\n",
       "      <td>Giri</td>\n",
       "      <td>Kiruthik</td>\n",
       "      <td>28.5</td>\n",
       "      <td>20.5</td>\n",
       "      <td>B</td>\n",
       "      <td>L</td>\n",
       "      <td>8.0</td>\n",
       "      <td>Off</td>\n",
       "      <td>R</td>\n",
       "      <td>7.0</td>\n",
       "    </tr>\n",
       "  </tbody>\n",
       "</table>\n",
       "<p>82 rows × 10 columns</p>\n",
       "</div>"
      ],
      "text/plain": [
       "   Person Item_Identifier  Length  Breadth PaperQuality Angle  Foldings  \\\n",
       "0   Kevin             Som    29.0     20.0            A     U       8.0   \n",
       "1   Kevin           kevin    23.0     16.0            B     U       8.0   \n",
       "2   Kevin              RR    28.5     18.0            A     L      10.0   \n",
       "3   Priya          Nithya    27.0     20.0            A     U      10.0   \n",
       "4   Priya           Priya    29.5     17.5            B     U       5.0   \n",
       "..    ...             ...     ...      ...          ...   ...       ...   \n",
       "83  Priya           Priya    29.5     17.5            B     U       5.0   \n",
       "84  Priya         Sathana    28.5     18.5            B     L       5.0   \n",
       "85  Priya       Yogashree    30.0     19.0       others     U       8.0   \n",
       "86   Giri            giri    25.0     17.0            B     U       8.0   \n",
       "87   Giri        Kiruthik    28.5     20.5            B     L       8.0   \n",
       "\n",
       "   Windspeed  Dominanthand  Distance  \n",
       "0          On            L       5.0  \n",
       "1          On            L       5.0  \n",
       "2          On            R       6.0  \n",
       "3          On            R       4.0  \n",
       "4         Off            R       8.0  \n",
       "..        ...          ...       ...  \n",
       "83        Off            R       7.0  \n",
       "84        Off            R       5.0  \n",
       "85        Off            R       4.0  \n",
       "86         On            R       5.0  \n",
       "87        Off            R       7.0  \n",
       "\n",
       "[82 rows x 10 columns]"
      ]
     },
     "execution_count": 135,
     "metadata": {},
     "output_type": "execute_result"
    }
   ],
   "source": [
    "flight[(flight.Length<ue)&(flight.Length>le)]"
   ]
  },
  {
   "cell_type": "code",
   "execution_count": 136,
   "id": "77e11dc2",
   "metadata": {},
   "outputs": [
    {
     "name": "stderr",
     "output_type": "stream",
     "text": [
      "C:\\Users\\Dell\\AppData\\Local\\Temp/ipykernel_14940/2714562716.py:1: SettingWithCopyWarning: \n",
      "A value is trying to be set on a copy of a slice from a DataFrame\n",
      "\n",
      "See the caveats in the documentation: https://pandas.pydata.org/pandas-docs/stable/user_guide/indexing.html#returning-a-view-versus-a-copy\n",
      "  flight.Length[flight.Length>ue]=ue\n",
      "C:\\Users\\Dell\\AppData\\Local\\Temp/ipykernel_14940/2714562716.py:2: SettingWithCopyWarning: \n",
      "A value is trying to be set on a copy of a slice from a DataFrame\n",
      "\n",
      "See the caveats in the documentation: https://pandas.pydata.org/pandas-docs/stable/user_guide/indexing.html#returning-a-view-versus-a-copy\n",
      "  flight.Length[flight.Length<le]=le\n"
     ]
    }
   ],
   "source": [
    "flight.Length[flight.Length>ue]=ue\n",
    "flight.Length[flight.Length<le]=le"
   ]
  },
  {
   "cell_type": "code",
   "execution_count": 137,
   "id": "eb5980e1",
   "metadata": {},
   "outputs": [
    {
     "data": {
      "text/plain": [
       "{'whiskers': [<matplotlib.lines.Line2D at 0x1b2b720d850>,\n",
       "  <matplotlib.lines.Line2D at 0x1b2b720dbe0>],\n",
       " 'caps': [<matplotlib.lines.Line2D at 0x1b2b720df70>,\n",
       "  <matplotlib.lines.Line2D at 0x1b2b721b340>],\n",
       " 'boxes': [<matplotlib.lines.Line2D at 0x1b2b720d4c0>],\n",
       " 'medians': [<matplotlib.lines.Line2D at 0x1b2b721b6d0>],\n",
       " 'fliers': [<matplotlib.lines.Line2D at 0x1b2b721ba60>],\n",
       " 'means': []}"
      ]
     },
     "execution_count": 137,
     "metadata": {},
     "output_type": "execute_result"
    },
    {
     "data": {
      "image/png": "[encoded data removed]",
      "text/plain": [
       "<Figure size 432x288 with 1 Axes>"
      ]
     },
     "metadata": {
      "needs_background": "light"
     },
     "output_type": "display_data"
    }
   ],
   "source": [
    "\n",
    "plt.boxplot(flight.Length)"
   ]
  },
  {
   "cell_type": "code",
   "execution_count": 138,
   "id": "6572cc00",
   "metadata": {},
   "outputs": [
    {
     "name": "stderr",
     "output_type": "stream",
     "text": [
      "C:\\Users\\Dell\\anaconda3\\lib\\site-packages\\seaborn\\_decorators.py:36: FutureWarning: Pass the following variable as a keyword arg: x. From version 0.12, the only valid positional argument will be `data`, and passing other arguments without an explicit keyword will result in an error or misinterpretation.\n",
      "  warnings.warn(\n"
     ]
    },
    {
     "data": {
      "text/plain": [
       "<AxesSubplot:xlabel='Person', ylabel='count'>"
      ]
     },
     "execution_count": 138,
     "metadata": {},
     "output_type": "execute_result"
    },
    {
     "data": {
      "image/png": "[encoded data removed]",
      "text/plain": [
       "<Figure size 432x288 with 1 Axes>"
      ]
     },
     "metadata": {
      "needs_background": "light"
     },
     "output_type": "display_data"
    }
   ],
   "source": [
    "sns.countplot('Person',data=flight)"
   ]
  },
  {
   "cell_type": "code",
   "execution_count": 139,
   "id": "7f90b739",
   "metadata": {},
   "outputs": [
    {
     "name": "stderr",
     "output_type": "stream",
     "text": [
      "C:\\Users\\Dell\\anaconda3\\lib\\site-packages\\seaborn\\_decorators.py:36: FutureWarning: Pass the following variable as a keyword arg: x. From version 0.12, the only valid positional argument will be `data`, and passing other arguments without an explicit keyword will result in an error or misinterpretation.\n",
      "  warnings.warn(\n"
     ]
    },
    {
     "data": {
      "text/plain": [
       "<AxesSubplot:xlabel='Item_Identifier', ylabel='count'>"
      ]
     },
     "execution_count": 139,
     "metadata": {},
     "output_type": "execute_result"
    },
    {
     "data": {
      "image/png": "[encoded data removed]",
      "text/plain": [
       "<Figure size 432x288 with 1 Axes>"
      ]
     },
     "metadata": {
      "needs_background": "light"
     },
     "output_type": "display_data"
    }
   ],
   "source": [
    "\n",
    "plt.xticks(rotation='vertical')\n",
    "sns.countplot('Item_Identifier',data=flight)"
   ]
  },
  {
   "cell_type": "code",
   "execution_count": 140,
   "id": "ee49a5d0",
   "metadata": {},
   "outputs": [
    {
     "data": {
      "text/plain": [
       "{'whiskers': [<matplotlib.lines.Line2D at 0x1b2b7362130>,\n",
       "  <matplotlib.lines.Line2D at 0x1b2b73624c0>],\n",
       " 'caps': [<matplotlib.lines.Line2D at 0x1b2b7362850>,\n",
       "  <matplotlib.lines.Line2D at 0x1b2b7362be0>],\n",
       " 'boxes': [<matplotlib.lines.Line2D at 0x1b2b7353d30>],\n",
       " 'medians': [<matplotlib.lines.Line2D at 0x1b2b7362f70>],\n",
       " 'fliers': [<matplotlib.lines.Line2D at 0x1b2b736f340>],\n",
       " 'means': []}"
      ]
     },
     "execution_count": 140,
     "metadata": {},
     "output_type": "execute_result"
    },
    {
     "data": {
      "image/png": "[encoded data removed]",
      "text/plain": [
       "<Figure size 432x288 with 1 Axes>"
      ]
     },
     "metadata": {
      "needs_background": "light"
     },
     "output_type": "display_data"
    }
   ],
   "source": [
    "plt.boxplot(flight.Breadth)"
   ]
  },
  {
   "cell_type": "code",
   "execution_count": 141,
   "id": "29dea693",
   "metadata": {},
   "outputs": [
    {
     "name": "stderr",
     "output_type": "stream",
     "text": [
      "C:\\Users\\Dell\\anaconda3\\lib\\site-packages\\seaborn\\_decorators.py:36: FutureWarning: Pass the following variable as a keyword arg: x. From version 0.12, the only valid positional argument will be `data`, and passing other arguments without an explicit keyword will result in an error or misinterpretation.\n",
      "  warnings.warn(\n"
     ]
    },
    {
     "data": {
      "text/plain": [
       "<AxesSubplot:xlabel='Dominanthand', ylabel='count'>"
      ]
     },
     "execution_count": 141,
     "metadata": {},
     "output_type": "execute_result"
    },
    {
     "data": {
      "image/png": "[encoded data removed]",
      "text/plain": [
       "<Figure size 432x288 with 1 Axes>"
      ]
     },
     "metadata": {
      "needs_background": "light"
     },
     "output_type": "display_data"
    }
   ],
   "source": [
    "\n",
    "sns.countplot('Dominanthand',data=flight)"
   ]
  },
  {
   "cell_type": "code",
   "execution_count": 142,
   "id": "d5d49f92",
   "metadata": {},
   "outputs": [
    {
     "data": {
      "text/plain": [
       "{'whiskers': [<matplotlib.lines.Line2D at 0x1b2b74211f0>,\n",
       "  <matplotlib.lines.Line2D at 0x1b2b7421520>],\n",
       " 'caps': [<matplotlib.lines.Line2D at 0x1b2b74217c0>,\n",
       "  <matplotlib.lines.Line2D at 0x1b2b7421b50>],\n",
       " 'boxes': [<matplotlib.lines.Line2D at 0x1b2b7411e20>],\n",
       " 'medians': [<matplotlib.lines.Line2D at 0x1b2b7421ee0>],\n",
       " 'fliers': [<matplotlib.lines.Line2D at 0x1b2b742d2b0>],\n",
       " 'means': []}"
      ]
     },
     "execution_count": 142,
     "metadata": {},
     "output_type": "execute_result"
    },
    {
     "data": {
      "image/png": "[encoded data removed]",
      "text/plain": [
       "<Figure size 432x288 with 1 Axes>"
      ]
     },
     "metadata": {
      "needs_background": "light"
     },
     "output_type": "display_data"
    }
   ],
   "source": [
    "\n",
    "plt.boxplot(flight.Distance)"
   ]
  },
  {
   "cell_type": "code",
   "execution_count": 143,
   "id": "474c6376",
   "metadata": {},
   "outputs": [
    {
     "name": "stdout",
     "output_type": "stream",
     "text": [
      "2.0\n"
     ]
    }
   ],
   "source": [
    "q3=flight.Distance.quantile(0.75)\n",
    "q1=flight.Distance.quantile(0.25)\n",
    "iqr=q3-q1\n",
    "print(iqr)\n"
   ]
  },
  {
   "cell_type": "code",
   "execution_count": 144,
   "id": "c1a9e62f",
   "metadata": {},
   "outputs": [
    {
     "name": "stdout",
     "output_type": "stream",
     "text": [
      "10.0\n",
      "2.0\n"
     ]
    }
   ],
   "source": [
    "ue=q3+1.5*(iqr)\n",
    "print(ue)\n",
    "le=q1-1.5*(iqr)\n",
    "print(le)"
   ]
  },
  {
   "cell_type": "code",
   "execution_count": 145,
   "id": "fc54a6e5",
   "metadata": {},
   "outputs": [
    {
     "data": {
      "text/html": [
       "<div>\n",
       "<style scoped>\n",
       "    .dataframe tbody tr th:only-of-type {\n",
       "        vertical-align: middle;\n",
       "    }\n",
       "\n",
       "    .dataframe tbody tr th {\n",
       "        vertical-align: top;\n",
       "    }\n",
       "\n",
       "    .dataframe thead th {\n",
       "        text-align: right;\n",
       "    }\n",
       "</style>\n",
       "<table border=\"1\" class=\"dataframe\">\n",
       "  <thead>\n",
       "    <tr style=\"text-align: right;\">\n",
       "      <th></th>\n",
       "      <th>Person</th>\n",
       "      <th>Item_Identifier</th>\n",
       "      <th>Length</th>\n",
       "      <th>Breadth</th>\n",
       "      <th>PaperQuality</th>\n",
       "      <th>Angle</th>\n",
       "      <th>Foldings</th>\n",
       "      <th>Windspeed</th>\n",
       "      <th>Dominanthand</th>\n",
       "      <th>Distance</th>\n",
       "    </tr>\n",
       "  </thead>\n",
       "  <tbody>\n",
       "    <tr>\n",
       "      <th>0</th>\n",
       "      <td>Kevin</td>\n",
       "      <td>Som</td>\n",
       "      <td>29.0</td>\n",
       "      <td>20.0</td>\n",
       "      <td>A</td>\n",
       "      <td>U</td>\n",
       "      <td>8.0</td>\n",
       "      <td>On</td>\n",
       "      <td>L</td>\n",
       "      <td>5.0</td>\n",
       "    </tr>\n",
       "    <tr>\n",
       "      <th>1</th>\n",
       "      <td>Kevin</td>\n",
       "      <td>kevin</td>\n",
       "      <td>23.0</td>\n",
       "      <td>16.0</td>\n",
       "      <td>B</td>\n",
       "      <td>U</td>\n",
       "      <td>8.0</td>\n",
       "      <td>On</td>\n",
       "      <td>L</td>\n",
       "      <td>5.0</td>\n",
       "    </tr>\n",
       "    <tr>\n",
       "      <th>2</th>\n",
       "      <td>Kevin</td>\n",
       "      <td>RR</td>\n",
       "      <td>28.5</td>\n",
       "      <td>18.0</td>\n",
       "      <td>A</td>\n",
       "      <td>L</td>\n",
       "      <td>10.0</td>\n",
       "      <td>On</td>\n",
       "      <td>R</td>\n",
       "      <td>6.0</td>\n",
       "    </tr>\n",
       "    <tr>\n",
       "      <th>3</th>\n",
       "      <td>Priya</td>\n",
       "      <td>Nithya</td>\n",
       "      <td>27.0</td>\n",
       "      <td>20.0</td>\n",
       "      <td>A</td>\n",
       "      <td>U</td>\n",
       "      <td>10.0</td>\n",
       "      <td>On</td>\n",
       "      <td>R</td>\n",
       "      <td>4.0</td>\n",
       "    </tr>\n",
       "    <tr>\n",
       "      <th>4</th>\n",
       "      <td>Priya</td>\n",
       "      <td>Priya</td>\n",
       "      <td>29.5</td>\n",
       "      <td>17.5</td>\n",
       "      <td>B</td>\n",
       "      <td>U</td>\n",
       "      <td>5.0</td>\n",
       "      <td>Off</td>\n",
       "      <td>R</td>\n",
       "      <td>8.0</td>\n",
       "    </tr>\n",
       "    <tr>\n",
       "      <th>...</th>\n",
       "      <td>...</td>\n",
       "      <td>...</td>\n",
       "      <td>...</td>\n",
       "      <td>...</td>\n",
       "      <td>...</td>\n",
       "      <td>...</td>\n",
       "      <td>...</td>\n",
       "      <td>...</td>\n",
       "      <td>...</td>\n",
       "      <td>...</td>\n",
       "    </tr>\n",
       "    <tr>\n",
       "      <th>83</th>\n",
       "      <td>Priya</td>\n",
       "      <td>Priya</td>\n",
       "      <td>29.5</td>\n",
       "      <td>17.5</td>\n",
       "      <td>B</td>\n",
       "      <td>U</td>\n",
       "      <td>5.0</td>\n",
       "      <td>Off</td>\n",
       "      <td>R</td>\n",
       "      <td>7.0</td>\n",
       "    </tr>\n",
       "    <tr>\n",
       "      <th>84</th>\n",
       "      <td>Priya</td>\n",
       "      <td>Sathana</td>\n",
       "      <td>28.5</td>\n",
       "      <td>18.5</td>\n",
       "      <td>B</td>\n",
       "      <td>L</td>\n",
       "      <td>5.0</td>\n",
       "      <td>Off</td>\n",
       "      <td>R</td>\n",
       "      <td>5.0</td>\n",
       "    </tr>\n",
       "    <tr>\n",
       "      <th>85</th>\n",
       "      <td>Priya</td>\n",
       "      <td>Yogashree</td>\n",
       "      <td>30.0</td>\n",
       "      <td>19.0</td>\n",
       "      <td>others</td>\n",
       "      <td>U</td>\n",
       "      <td>8.0</td>\n",
       "      <td>Off</td>\n",
       "      <td>R</td>\n",
       "      <td>4.0</td>\n",
       "    </tr>\n",
       "    <tr>\n",
       "      <th>86</th>\n",
       "      <td>Giri</td>\n",
       "      <td>giri</td>\n",
       "      <td>25.0</td>\n",
       "      <td>17.0</td>\n",
       "      <td>B</td>\n",
       "      <td>U</td>\n",
       "      <td>8.0</td>\n",
       "      <td>On</td>\n",
       "      <td>R</td>\n",
       "      <td>5.0</td>\n",
       "    </tr>\n",
       "    <tr>\n",
       "      <th>87</th>\n",
       "      <td>Giri</td>\n",
       "      <td>Kiruthik</td>\n",
       "      <td>28.5</td>\n",
       "      <td>20.5</td>\n",
       "      <td>B</td>\n",
       "      <td>L</td>\n",
       "      <td>8.0</td>\n",
       "      <td>Off</td>\n",
       "      <td>R</td>\n",
       "      <td>7.0</td>\n",
       "    </tr>\n",
       "  </tbody>\n",
       "</table>\n",
       "<p>82 rows × 10 columns</p>\n",
       "</div>"
      ],
      "text/plain": [
       "   Person Item_Identifier  Length  Breadth PaperQuality Angle  Foldings  \\\n",
       "0   Kevin             Som    29.0     20.0            A     U       8.0   \n",
       "1   Kevin           kevin    23.0     16.0            B     U       8.0   \n",
       "2   Kevin              RR    28.5     18.0            A     L      10.0   \n",
       "3   Priya          Nithya    27.0     20.0            A     U      10.0   \n",
       "4   Priya           Priya    29.5     17.5            B     U       5.0   \n",
       "..    ...             ...     ...      ...          ...   ...       ...   \n",
       "83  Priya           Priya    29.5     17.5            B     U       5.0   \n",
       "84  Priya         Sathana    28.5     18.5            B     L       5.0   \n",
       "85  Priya       Yogashree    30.0     19.0       others     U       8.0   \n",
       "86   Giri            giri    25.0     17.0            B     U       8.0   \n",
       "87   Giri        Kiruthik    28.5     20.5            B     L       8.0   \n",
       "\n",
       "   Windspeed  Dominanthand  Distance  \n",
       "0          On            L       5.0  \n",
       "1          On            L       5.0  \n",
       "2          On            R       6.0  \n",
       "3          On            R       4.0  \n",
       "4         Off            R       8.0  \n",
       "..        ...          ...       ...  \n",
       "83        Off            R       7.0  \n",
       "84        Off            R       5.0  \n",
       "85        Off            R       4.0  \n",
       "86         On            R       5.0  \n",
       "87        Off            R       7.0  \n",
       "\n",
       "[82 rows x 10 columns]"
      ]
     },
     "execution_count": 145,
     "metadata": {},
     "output_type": "execute_result"
    }
   ],
   "source": [
    "flight[(flight.Distance<ue)&(flight.Distance>le)]\n"
   ]
  },
  {
   "cell_type": "code",
   "execution_count": 146,
   "id": "17e6b827",
   "metadata": {},
   "outputs": [
    {
     "name": "stderr",
     "output_type": "stream",
     "text": [
      "C:\\Users\\Dell\\AppData\\Local\\Temp/ipykernel_14940/1934008714.py:1: SettingWithCopyWarning: \n",
      "A value is trying to be set on a copy of a slice from a DataFrame\n",
      "\n",
      "See the caveats in the documentation: https://pandas.pydata.org/pandas-docs/stable/user_guide/indexing.html#returning-a-view-versus-a-copy\n",
      "  flight.Distance[flight.Distance>ue]=ue\n",
      "C:\\Users\\Dell\\AppData\\Local\\Temp/ipykernel_14940/1934008714.py:2: SettingWithCopyWarning: \n",
      "A value is trying to be set on a copy of a slice from a DataFrame\n",
      "\n",
      "See the caveats in the documentation: https://pandas.pydata.org/pandas-docs/stable/user_guide/indexing.html#returning-a-view-versus-a-copy\n",
      "  flight.Distance[flight.Distance<le]=le\n"
     ]
    }
   ],
   "source": [
    "flight.Distance[flight.Distance>ue]=ue\n",
    "flight.Distance[flight.Distance<le]=le-"
   ]
  },
  {
   "cell_type": "code",
   "execution_count": 147,
   "id": "35af6872",
   "metadata": {},
   "outputs": [
    {
     "data": {
      "text/plain": [
       "{'whiskers': [<matplotlib.lines.Line2D at 0x1b2b74853a0>,\n",
       "  <matplotlib.lines.Line2D at 0x1b2b7485730>],\n",
       " 'caps': [<matplotlib.lines.Line2D at 0x1b2b7485a00>,\n",
       "  <matplotlib.lines.Line2D at 0x1b2b7485d90>],\n",
       " 'boxes': [<matplotlib.lines.Line2D at 0x1b2b7476fd0>],\n",
       " 'medians': [<matplotlib.lines.Line2D at 0x1b2b7492160>],\n",
       " 'fliers': [<matplotlib.lines.Line2D at 0x1b2b74924f0>],\n",
       " 'means': []}"
      ]
     },
     "execution_count": 147,
     "metadata": {},
     "output_type": "execute_result"
    },
    {
     "data": {
      "image/png": "[encoded data removed]",
      "text/plain": [
       "<Figure size 432x288 with 1 Axes>"
      ]
     },
     "metadata": {
      "needs_background": "light"
     },
     "output_type": "display_data"
    }
   ],
   "source": [
    "\n",
    "plt.boxplot(flight.Distance)"
   ]
  },
  {
   "cell_type": "code",
   "execution_count": 148,
   "id": "7042338e",
   "metadata": {},
   "outputs": [
    {
     "name": "stderr",
     "output_type": "stream",
     "text": [
      "C:\\Users\\Dell\\anaconda3\\lib\\site-packages\\seaborn\\_decorators.py:36: FutureWarning: Pass the following variable as a keyword arg: x. From version 0.12, the only valid positional argument will be `data`, and passing other arguments without an explicit keyword will result in an error or misinterpretation.\n",
      "  warnings.warn(\n"
     ]
    },
    {
     "data": {
      "text/plain": [
       "<AxesSubplot:xlabel='PaperQuality', ylabel='count'>"
      ]
     },
     "execution_count": 148,
     "metadata": {},
     "output_type": "execute_result"
    },
    {
     "data": {
      "image/png": "[encoded data removed]",
      "text/plain": [
       "<Figure size 432x288 with 1 Axes>"
      ]
     },
     "metadata": {
      "needs_background": "light"
     },
     "output_type": "display_data"
    }
   ],
   "source": [
    "sns.countplot('PaperQuality',data=flight)"
   ]
  },
  {
   "cell_type": "code",
   "execution_count": 149,
   "id": "3a69af98",
   "metadata": {},
   "outputs": [
    {
     "name": "stderr",
     "output_type": "stream",
     "text": [
      "C:\\Users\\Dell\\anaconda3\\lib\\site-packages\\seaborn\\_decorators.py:36: FutureWarning: Pass the following variable as a keyword arg: x. From version 0.12, the only valid positional argument will be `data`, and passing other arguments without an explicit keyword will result in an error or misinterpretation.\n",
      "  warnings.warn(\n"
     ]
    },
    {
     "data": {
      "text/plain": [
       "<AxesSubplot:xlabel='Angle', ylabel='count'>"
      ]
     },
     "execution_count": 149,
     "metadata": {},
     "output_type": "execute_result"
    },
    {
     "data": {
      "image/png": "[encoded data removed]",
      "text/plain": [
       "<Figure size 432x288 with 1 Axes>"
      ]
     },
     "metadata": {
      "needs_background": "light"
     },
     "output_type": "display_data"
    }
   ],
   "source": [
    "\n",
    "sns.countplot('Angle',data=flight)"
   ]
  },
  {
   "cell_type": "code",
   "execution_count": 150,
   "id": "2b0f87e2",
   "metadata": {},
   "outputs": [
    {
     "data": {
      "text/html": [
       "<div>\n",
       "<style scoped>\n",
       "    .dataframe tbody tr th:only-of-type {\n",
       "        vertical-align: middle;\n",
       "    }\n",
       "\n",
       "    .dataframe tbody tr th {\n",
       "        vertical-align: top;\n",
       "    }\n",
       "\n",
       "    .dataframe thead th {\n",
       "        text-align: right;\n",
       "    }\n",
       "</style>\n",
       "<table border=\"1\" class=\"dataframe\">\n",
       "  <thead>\n",
       "    <tr style=\"text-align: right;\">\n",
       "      <th></th>\n",
       "      <th>Giri</th>\n",
       "      <th>Kevin</th>\n",
       "      <th>Priya</th>\n",
       "      <th>Shabana</th>\n",
       "    </tr>\n",
       "  </thead>\n",
       "  <tbody>\n",
       "    <tr>\n",
       "      <th>0</th>\n",
       "      <td>0</td>\n",
       "      <td>1</td>\n",
       "      <td>0</td>\n",
       "      <td>0</td>\n",
       "    </tr>\n",
       "    <tr>\n",
       "      <th>1</th>\n",
       "      <td>0</td>\n",
       "      <td>1</td>\n",
       "      <td>0</td>\n",
       "      <td>0</td>\n",
       "    </tr>\n",
       "    <tr>\n",
       "      <th>2</th>\n",
       "      <td>0</td>\n",
       "      <td>1</td>\n",
       "      <td>0</td>\n",
       "      <td>0</td>\n",
       "    </tr>\n",
       "    <tr>\n",
       "      <th>3</th>\n",
       "      <td>0</td>\n",
       "      <td>0</td>\n",
       "      <td>1</td>\n",
       "      <td>0</td>\n",
       "    </tr>\n",
       "    <tr>\n",
       "      <th>4</th>\n",
       "      <td>0</td>\n",
       "      <td>0</td>\n",
       "      <td>1</td>\n",
       "      <td>0</td>\n",
       "    </tr>\n",
       "    <tr>\n",
       "      <th>...</th>\n",
       "      <td>...</td>\n",
       "      <td>...</td>\n",
       "      <td>...</td>\n",
       "      <td>...</td>\n",
       "    </tr>\n",
       "    <tr>\n",
       "      <th>83</th>\n",
       "      <td>0</td>\n",
       "      <td>0</td>\n",
       "      <td>1</td>\n",
       "      <td>0</td>\n",
       "    </tr>\n",
       "    <tr>\n",
       "      <th>84</th>\n",
       "      <td>0</td>\n",
       "      <td>0</td>\n",
       "      <td>1</td>\n",
       "      <td>0</td>\n",
       "    </tr>\n",
       "    <tr>\n",
       "      <th>85</th>\n",
       "      <td>0</td>\n",
       "      <td>0</td>\n",
       "      <td>1</td>\n",
       "      <td>0</td>\n",
       "    </tr>\n",
       "    <tr>\n",
       "      <th>86</th>\n",
       "      <td>1</td>\n",
       "      <td>0</td>\n",
       "      <td>0</td>\n",
       "      <td>0</td>\n",
       "    </tr>\n",
       "    <tr>\n",
       "      <th>87</th>\n",
       "      <td>1</td>\n",
       "      <td>0</td>\n",
       "      <td>0</td>\n",
       "      <td>0</td>\n",
       "    </tr>\n",
       "  </tbody>\n",
       "</table>\n",
       "<p>88 rows × 4 columns</p>\n",
       "</div>"
      ],
      "text/plain": [
       "    Giri  Kevin  Priya  Shabana\n",
       "0      0      1      0        0\n",
       "1      0      1      0        0\n",
       "2      0      1      0        0\n",
       "3      0      0      1        0\n",
       "4      0      0      1        0\n",
       "..   ...    ...    ...      ...\n",
       "83     0      0      1        0\n",
       "84     0      0      1        0\n",
       "85     0      0      1        0\n",
       "86     1      0      0        0\n",
       "87     1      0      0        0\n",
       "\n",
       "[88 rows x 4 columns]"
      ]
     },
     "execution_count": 150,
     "metadata": {},
     "output_type": "execute_result"
    }
   ],
   "source": [
    "\n",
    "pd.get_dummies(flight.Person)"
   ]
  },
  {
   "cell_type": "code",
   "execution_count": 151,
   "id": "7322059a",
   "metadata": {},
   "outputs": [
    {
     "data": {
      "text/html": [
       "<div>\n",
       "<style scoped>\n",
       "    .dataframe tbody tr th:only-of-type {\n",
       "        vertical-align: middle;\n",
       "    }\n",
       "\n",
       "    .dataframe tbody tr th {\n",
       "        vertical-align: top;\n",
       "    }\n",
       "\n",
       "    .dataframe thead th {\n",
       "        text-align: right;\n",
       "    }\n",
       "</style>\n",
       "<table border=\"1\" class=\"dataframe\">\n",
       "  <thead>\n",
       "    <tr style=\"text-align: right;\">\n",
       "      <th></th>\n",
       "      <th>Length</th>\n",
       "      <th>Breadth</th>\n",
       "      <th>Foldings</th>\n",
       "      <th>Distance</th>\n",
       "      <th>Person_Giri</th>\n",
       "      <th>Person_Kevin</th>\n",
       "      <th>Person_Priya</th>\n",
       "      <th>Person_Shabana</th>\n",
       "      <th>Item_Identifier_AJ</th>\n",
       "      <th>Item_Identifier_Kiruthik</th>\n",
       "      <th>...</th>\n",
       "      <th>PaperQuality_A</th>\n",
       "      <th>PaperQuality_B</th>\n",
       "      <th>PaperQuality_others</th>\n",
       "      <th>Angle_L</th>\n",
       "      <th>Angle_U</th>\n",
       "      <th>Angle_others</th>\n",
       "      <th>Windspeed _Off</th>\n",
       "      <th>Windspeed _On</th>\n",
       "      <th>Dominanthand_L</th>\n",
       "      <th>Dominanthand_R</th>\n",
       "    </tr>\n",
       "  </thead>\n",
       "  <tbody>\n",
       "    <tr>\n",
       "      <th>0</th>\n",
       "      <td>29.0</td>\n",
       "      <td>20.0</td>\n",
       "      <td>8.0</td>\n",
       "      <td>5.0</td>\n",
       "      <td>0</td>\n",
       "      <td>1</td>\n",
       "      <td>0</td>\n",
       "      <td>0</td>\n",
       "      <td>0</td>\n",
       "      <td>0</td>\n",
       "      <td>...</td>\n",
       "      <td>1</td>\n",
       "      <td>0</td>\n",
       "      <td>0</td>\n",
       "      <td>0</td>\n",
       "      <td>1</td>\n",
       "      <td>0</td>\n",
       "      <td>0</td>\n",
       "      <td>1</td>\n",
       "      <td>1</td>\n",
       "      <td>0</td>\n",
       "    </tr>\n",
       "    <tr>\n",
       "      <th>1</th>\n",
       "      <td>23.0</td>\n",
       "      <td>16.0</td>\n",
       "      <td>8.0</td>\n",
       "      <td>5.0</td>\n",
       "      <td>0</td>\n",
       "      <td>1</td>\n",
       "      <td>0</td>\n",
       "      <td>0</td>\n",
       "      <td>0</td>\n",
       "      <td>0</td>\n",
       "      <td>...</td>\n",
       "      <td>0</td>\n",
       "      <td>1</td>\n",
       "      <td>0</td>\n",
       "      <td>0</td>\n",
       "      <td>1</td>\n",
       "      <td>0</td>\n",
       "      <td>0</td>\n",
       "      <td>1</td>\n",
       "      <td>1</td>\n",
       "      <td>0</td>\n",
       "    </tr>\n",
       "    <tr>\n",
       "      <th>2</th>\n",
       "      <td>28.5</td>\n",
       "      <td>18.0</td>\n",
       "      <td>10.0</td>\n",
       "      <td>6.0</td>\n",
       "      <td>0</td>\n",
       "      <td>1</td>\n",
       "      <td>0</td>\n",
       "      <td>0</td>\n",
       "      <td>0</td>\n",
       "      <td>0</td>\n",
       "      <td>...</td>\n",
       "      <td>1</td>\n",
       "      <td>0</td>\n",
       "      <td>0</td>\n",
       "      <td>1</td>\n",
       "      <td>0</td>\n",
       "      <td>0</td>\n",
       "      <td>0</td>\n",
       "      <td>1</td>\n",
       "      <td>0</td>\n",
       "      <td>1</td>\n",
       "    </tr>\n",
       "    <tr>\n",
       "      <th>3</th>\n",
       "      <td>27.0</td>\n",
       "      <td>20.0</td>\n",
       "      <td>10.0</td>\n",
       "      <td>4.0</td>\n",
       "      <td>0</td>\n",
       "      <td>0</td>\n",
       "      <td>1</td>\n",
       "      <td>0</td>\n",
       "      <td>0</td>\n",
       "      <td>0</td>\n",
       "      <td>...</td>\n",
       "      <td>1</td>\n",
       "      <td>0</td>\n",
       "      <td>0</td>\n",
       "      <td>0</td>\n",
       "      <td>1</td>\n",
       "      <td>0</td>\n",
       "      <td>0</td>\n",
       "      <td>1</td>\n",
       "      <td>0</td>\n",
       "      <td>1</td>\n",
       "    </tr>\n",
       "    <tr>\n",
       "      <th>4</th>\n",
       "      <td>29.5</td>\n",
       "      <td>17.5</td>\n",
       "      <td>5.0</td>\n",
       "      <td>8.0</td>\n",
       "      <td>0</td>\n",
       "      <td>0</td>\n",
       "      <td>1</td>\n",
       "      <td>0</td>\n",
       "      <td>0</td>\n",
       "      <td>0</td>\n",
       "      <td>...</td>\n",
       "      <td>0</td>\n",
       "      <td>1</td>\n",
       "      <td>0</td>\n",
       "      <td>0</td>\n",
       "      <td>1</td>\n",
       "      <td>0</td>\n",
       "      <td>1</td>\n",
       "      <td>0</td>\n",
       "      <td>0</td>\n",
       "      <td>1</td>\n",
       "    </tr>\n",
       "    <tr>\n",
       "      <th>...</th>\n",
       "      <td>...</td>\n",
       "      <td>...</td>\n",
       "      <td>...</td>\n",
       "      <td>...</td>\n",
       "      <td>...</td>\n",
       "      <td>...</td>\n",
       "      <td>...</td>\n",
       "      <td>...</td>\n",
       "      <td>...</td>\n",
       "      <td>...</td>\n",
       "      <td>...</td>\n",
       "      <td>...</td>\n",
       "      <td>...</td>\n",
       "      <td>...</td>\n",
       "      <td>...</td>\n",
       "      <td>...</td>\n",
       "      <td>...</td>\n",
       "      <td>...</td>\n",
       "      <td>...</td>\n",
       "      <td>...</td>\n",
       "      <td>...</td>\n",
       "    </tr>\n",
       "    <tr>\n",
       "      <th>83</th>\n",
       "      <td>29.5</td>\n",
       "      <td>17.5</td>\n",
       "      <td>5.0</td>\n",
       "      <td>7.0</td>\n",
       "      <td>0</td>\n",
       "      <td>0</td>\n",
       "      <td>1</td>\n",
       "      <td>0</td>\n",
       "      <td>0</td>\n",
       "      <td>0</td>\n",
       "      <td>...</td>\n",
       "      <td>0</td>\n",
       "      <td>1</td>\n",
       "      <td>0</td>\n",
       "      <td>0</td>\n",
       "      <td>1</td>\n",
       "      <td>0</td>\n",
       "      <td>1</td>\n",
       "      <td>0</td>\n",
       "      <td>0</td>\n",
       "      <td>1</td>\n",
       "    </tr>\n",
       "    <tr>\n",
       "      <th>84</th>\n",
       "      <td>28.5</td>\n",
       "      <td>18.5</td>\n",
       "      <td>5.0</td>\n",
       "      <td>5.0</td>\n",
       "      <td>0</td>\n",
       "      <td>0</td>\n",
       "      <td>1</td>\n",
       "      <td>0</td>\n",
       "      <td>0</td>\n",
       "      <td>0</td>\n",
       "      <td>...</td>\n",
       "      <td>0</td>\n",
       "      <td>1</td>\n",
       "      <td>0</td>\n",
       "      <td>1</td>\n",
       "      <td>0</td>\n",
       "      <td>0</td>\n",
       "      <td>1</td>\n",
       "      <td>0</td>\n",
       "      <td>0</td>\n",
       "      <td>1</td>\n",
       "    </tr>\n",
       "    <tr>\n",
       "      <th>85</th>\n",
       "      <td>30.0</td>\n",
       "      <td>19.0</td>\n",
       "      <td>8.0</td>\n",
       "      <td>4.0</td>\n",
       "      <td>0</td>\n",
       "      <td>0</td>\n",
       "      <td>1</td>\n",
       "      <td>0</td>\n",
       "      <td>0</td>\n",
       "      <td>0</td>\n",
       "      <td>...</td>\n",
       "      <td>0</td>\n",
       "      <td>0</td>\n",
       "      <td>1</td>\n",
       "      <td>0</td>\n",
       "      <td>1</td>\n",
       "      <td>0</td>\n",
       "      <td>1</td>\n",
       "      <td>0</td>\n",
       "      <td>0</td>\n",
       "      <td>1</td>\n",
       "    </tr>\n",
       "    <tr>\n",
       "      <th>86</th>\n",
       "      <td>25.0</td>\n",
       "      <td>17.0</td>\n",
       "      <td>8.0</td>\n",
       "      <td>5.0</td>\n",
       "      <td>1</td>\n",
       "      <td>0</td>\n",
       "      <td>0</td>\n",
       "      <td>0</td>\n",
       "      <td>0</td>\n",
       "      <td>0</td>\n",
       "      <td>...</td>\n",
       "      <td>0</td>\n",
       "      <td>1</td>\n",
       "      <td>0</td>\n",
       "      <td>0</td>\n",
       "      <td>1</td>\n",
       "      <td>0</td>\n",
       "      <td>0</td>\n",
       "      <td>1</td>\n",
       "      <td>0</td>\n",
       "      <td>1</td>\n",
       "    </tr>\n",
       "    <tr>\n",
       "      <th>87</th>\n",
       "      <td>28.5</td>\n",
       "      <td>20.5</td>\n",
       "      <td>8.0</td>\n",
       "      <td>7.0</td>\n",
       "      <td>1</td>\n",
       "      <td>0</td>\n",
       "      <td>0</td>\n",
       "      <td>0</td>\n",
       "      <td>0</td>\n",
       "      <td>1</td>\n",
       "      <td>...</td>\n",
       "      <td>0</td>\n",
       "      <td>1</td>\n",
       "      <td>0</td>\n",
       "      <td>1</td>\n",
       "      <td>0</td>\n",
       "      <td>0</td>\n",
       "      <td>1</td>\n",
       "      <td>0</td>\n",
       "      <td>0</td>\n",
       "      <td>1</td>\n",
       "    </tr>\n",
       "  </tbody>\n",
       "</table>\n",
       "<p>88 rows × 31 columns</p>\n",
       "</div>"
      ],
      "text/plain": [
       "    Length  Breadth  Foldings  Distance  Person_Giri  Person_Kevin  \\\n",
       "0     29.0     20.0       8.0       5.0            0             1   \n",
       "1     23.0     16.0       8.0       5.0            0             1   \n",
       "2     28.5     18.0      10.0       6.0            0             1   \n",
       "3     27.0     20.0      10.0       4.0            0             0   \n",
       "4     29.5     17.5       5.0       8.0            0             0   \n",
       "..     ...      ...       ...       ...          ...           ...   \n",
       "83    29.5     17.5       5.0       7.0            0             0   \n",
       "84    28.5     18.5       5.0       5.0            0             0   \n",
       "85    30.0     19.0       8.0       4.0            0             0   \n",
       "86    25.0     17.0       8.0       5.0            1             0   \n",
       "87    28.5     20.5       8.0       7.0            1             0   \n",
       "\n",
       "    Person_Priya  Person_Shabana  Item_Identifier_AJ  \\\n",
       "0              0               0                   0   \n",
       "1              0               0                   0   \n",
       "2              0               0                   0   \n",
       "3              1               0                   0   \n",
       "4              1               0                   0   \n",
       "..           ...             ...                 ...   \n",
       "83             1               0                   0   \n",
       "84             1               0                   0   \n",
       "85             1               0                   0   \n",
       "86             0               0                   0   \n",
       "87             0               0                   0   \n",
       "\n",
       "    Item_Identifier_Kiruthik  ...  PaperQuality_A  PaperQuality_B  \\\n",
       "0                          0  ...               1               0   \n",
       "1                          0  ...               0               1   \n",
       "2                          0  ...               1               0   \n",
       "3                          0  ...               1               0   \n",
       "4                          0  ...               0               1   \n",
       "..                       ...  ...             ...             ...   \n",
       "83                         0  ...               0               1   \n",
       "84                         0  ...               0               1   \n",
       "85                         0  ...               0               0   \n",
       "86                         0  ...               0               1   \n",
       "87                         1  ...               0               1   \n",
       "\n",
       "    PaperQuality_others  Angle_L  Angle_U  Angle_others  Windspeed _Off  \\\n",
       "0                     0        0        1             0               0   \n",
       "1                     0        0        1             0               0   \n",
       "2                     0        1        0             0               0   \n",
       "3                     0        0        1             0               0   \n",
       "4                     0        0        1             0               1   \n",
       "..                  ...      ...      ...           ...             ...   \n",
       "83                    0        0        1             0               1   \n",
       "84                    0        1        0             0               1   \n",
       "85                    1        0        1             0               1   \n",
       "86                    0        0        1             0               0   \n",
       "87                    0        1        0             0               1   \n",
       "\n",
       "    Windspeed _On  Dominanthand_L  Dominanthand_R  \n",
       "0               1               1               0  \n",
       "1               1               1               0  \n",
       "2               1               0               1  \n",
       "3               1               0               1  \n",
       "4               0               0               1  \n",
       "..            ...             ...             ...  \n",
       "83              0               0               1  \n",
       "84              0               0               1  \n",
       "85              0               0               1  \n",
       "86              1               0               1  \n",
       "87              0               0               1  \n",
       "\n",
       "[88 rows x 31 columns]"
      ]
     },
     "execution_count": 151,
     "metadata": {},
     "output_type": "execute_result"
    }
   ],
   "source": [
    "dummy = pd.get_dummies(flight)\n",
    "dummy"
   ]
  },
  {
   "cell_type": "code",
   "execution_count": 152,
   "id": "b1aa4a69",
   "metadata": {},
   "outputs": [],
   "source": [
    "x=dummy.drop('Distance',axis=1)\n",
    "y=dummy.Distance"
   ]
  },
  {
   "cell_type": "code",
   "execution_count": 153,
   "id": "1332994a",
   "metadata": {},
   "outputs": [],
   "source": [
    "\n",
    "from sklearn.model_selection import train_test_split\n",
    "x_train , x_test , y_train , y_test = train_test_split(x,y,test_size=0.2)"
   ]
  },
  {
   "cell_type": "code",
   "execution_count": 154,
   "id": "5495f3dd",
   "metadata": {},
   "outputs": [],
   "source": [
    "\n",
    "from sklearn.linear_model import LinearRegression\n",
    "model = LinearRegression()\n"
   ]
  },
  {
   "cell_type": "code",
   "execution_count": 155,
   "id": "a1f31b39",
   "metadata": {},
   "outputs": [
    {
     "data": {
      "text/plain": [
       "LinearRegression()"
      ]
     },
     "execution_count": 155,
     "metadata": {},
     "output_type": "execute_result"
    }
   ],
   "source": [
    "model.fit(x_train,y_train)"
   ]
  },
  {
   "cell_type": "code",
   "execution_count": 156,
   "id": "e14e732e",
   "metadata": {},
   "outputs": [
    {
     "data": {
      "text/plain": [
       "array([4.78783052, 8.        , 5.96704098, 7.84795942, 7.29815021,\n",
       "       5.48545187, 5.88314254, 5.96704098, 5.18661357, 8.        ,\n",
       "       8.        , 8.        , 5.42647604, 7.50253531, 8.        ,\n",
       "       6.73456819, 5.33333333, 6.56977019])"
      ]
     },
     "execution_count": 156,
     "metadata": {},
     "output_type": "execute_result"
    }
   ],
   "source": [
    "model.predict(x_test)"
   ]
  },
  {
   "cell_type": "code",
   "execution_count": 157,
   "id": "0e64a1fe",
   "metadata": {},
   "outputs": [],
   "source": [
    "predicted_y = model.predict(x_test)"
   ]
  },
  {
   "cell_type": "code",
   "execution_count": 158,
   "id": "9a016435",
   "metadata": {},
   "outputs": [
    {
     "data": {
      "text/plain": [
       "-0.8925931426475766"
      ]
     },
     "execution_count": 158,
     "metadata": {},
     "output_type": "execute_result"
    }
   ],
   "source": [
    "\n",
    "model.score(x_test,y_test)"
   ]
  },
  {
   "cell_type": "code",
   "execution_count": 159,
   "id": "f2142cae",
   "metadata": {},
   "outputs": [],
   "source": [
    "from sklearn.metrics import mean_squared_error"
   ]
  },
  {
   "cell_type": "code",
   "execution_count": 160,
   "id": "977b6e58",
   "metadata": {},
   "outputs": [
    {
     "data": {
      "text/plain": [
       "5.917274239203689"
      ]
     },
     "execution_count": 160,
     "metadata": {},
     "output_type": "execute_result"
    }
   ],
   "source": [
    "\n",
    "mean_squared_error(y_test,predicted_y)"
   ]
  },
  {
   "cell_type": "code",
   "execution_count": 161,
   "id": "88a8e5a0",
   "metadata": {},
   "outputs": [
    {
     "data": {
      "text/html": [
       "<div>\n",
       "<style scoped>\n",
       "    .dataframe tbody tr th:only-of-type {\n",
       "        vertical-align: middle;\n",
       "    }\n",
       "\n",
       "    .dataframe tbody tr th {\n",
       "        vertical-align: top;\n",
       "    }\n",
       "\n",
       "    .dataframe thead th {\n",
       "        text-align: right;\n",
       "    }\n",
       "</style>\n",
       "<table border=\"1\" class=\"dataframe\">\n",
       "  <thead>\n",
       "    <tr style=\"text-align: right;\">\n",
       "      <th></th>\n",
       "      <th>Person</th>\n",
       "      <th>Item_Identifier</th>\n",
       "      <th>Length</th>\n",
       "      <th>Breadth</th>\n",
       "      <th>PaperQuality</th>\n",
       "      <th>Angle</th>\n",
       "      <th>Foldings</th>\n",
       "      <th>Windspeed</th>\n",
       "      <th>Dominanthand</th>\n",
       "      <th>Distance</th>\n",
       "      <th>Dist1</th>\n",
       "    </tr>\n",
       "  </thead>\n",
       "  <tbody>\n",
       "    <tr>\n",
       "      <th>0</th>\n",
       "      <td>Kevin</td>\n",
       "      <td>Som</td>\n",
       "      <td>29.0</td>\n",
       "      <td>20.0</td>\n",
       "      <td>A</td>\n",
       "      <td>U</td>\n",
       "      <td>8.0</td>\n",
       "      <td>On</td>\n",
       "      <td>L</td>\n",
       "      <td>5.0</td>\n",
       "      <td>False</td>\n",
       "    </tr>\n",
       "    <tr>\n",
       "      <th>1</th>\n",
       "      <td>Kevin</td>\n",
       "      <td>kevin</td>\n",
       "      <td>23.0</td>\n",
       "      <td>16.0</td>\n",
       "      <td>B</td>\n",
       "      <td>U</td>\n",
       "      <td>8.0</td>\n",
       "      <td>On</td>\n",
       "      <td>L</td>\n",
       "      <td>5.0</td>\n",
       "      <td>False</td>\n",
       "    </tr>\n",
       "    <tr>\n",
       "      <th>2</th>\n",
       "      <td>Kevin</td>\n",
       "      <td>RR</td>\n",
       "      <td>28.5</td>\n",
       "      <td>18.0</td>\n",
       "      <td>A</td>\n",
       "      <td>L</td>\n",
       "      <td>10.0</td>\n",
       "      <td>On</td>\n",
       "      <td>R</td>\n",
       "      <td>6.0</td>\n",
       "      <td>True</td>\n",
       "    </tr>\n",
       "    <tr>\n",
       "      <th>3</th>\n",
       "      <td>Priya</td>\n",
       "      <td>Nithya</td>\n",
       "      <td>27.0</td>\n",
       "      <td>20.0</td>\n",
       "      <td>A</td>\n",
       "      <td>U</td>\n",
       "      <td>10.0</td>\n",
       "      <td>On</td>\n",
       "      <td>R</td>\n",
       "      <td>4.0</td>\n",
       "      <td>False</td>\n",
       "    </tr>\n",
       "    <tr>\n",
       "      <th>4</th>\n",
       "      <td>Priya</td>\n",
       "      <td>Priya</td>\n",
       "      <td>29.5</td>\n",
       "      <td>17.5</td>\n",
       "      <td>B</td>\n",
       "      <td>U</td>\n",
       "      <td>5.0</td>\n",
       "      <td>Off</td>\n",
       "      <td>R</td>\n",
       "      <td>8.0</td>\n",
       "      <td>True</td>\n",
       "    </tr>\n",
       "    <tr>\n",
       "      <th>...</th>\n",
       "      <td>...</td>\n",
       "      <td>...</td>\n",
       "      <td>...</td>\n",
       "      <td>...</td>\n",
       "      <td>...</td>\n",
       "      <td>...</td>\n",
       "      <td>...</td>\n",
       "      <td>...</td>\n",
       "      <td>...</td>\n",
       "      <td>...</td>\n",
       "      <td>...</td>\n",
       "    </tr>\n",
       "    <tr>\n",
       "      <th>83</th>\n",
       "      <td>Priya</td>\n",
       "      <td>Priya</td>\n",
       "      <td>29.5</td>\n",
       "      <td>17.5</td>\n",
       "      <td>B</td>\n",
       "      <td>U</td>\n",
       "      <td>5.0</td>\n",
       "      <td>Off</td>\n",
       "      <td>R</td>\n",
       "      <td>7.0</td>\n",
       "      <td>True</td>\n",
       "    </tr>\n",
       "    <tr>\n",
       "      <th>84</th>\n",
       "      <td>Priya</td>\n",
       "      <td>Sathana</td>\n",
       "      <td>28.5</td>\n",
       "      <td>18.5</td>\n",
       "      <td>B</td>\n",
       "      <td>L</td>\n",
       "      <td>5.0</td>\n",
       "      <td>Off</td>\n",
       "      <td>R</td>\n",
       "      <td>5.0</td>\n",
       "      <td>False</td>\n",
       "    </tr>\n",
       "    <tr>\n",
       "      <th>85</th>\n",
       "      <td>Priya</td>\n",
       "      <td>Yogashree</td>\n",
       "      <td>30.0</td>\n",
       "      <td>19.0</td>\n",
       "      <td>others</td>\n",
       "      <td>U</td>\n",
       "      <td>8.0</td>\n",
       "      <td>Off</td>\n",
       "      <td>R</td>\n",
       "      <td>4.0</td>\n",
       "      <td>False</td>\n",
       "    </tr>\n",
       "    <tr>\n",
       "      <th>86</th>\n",
       "      <td>Giri</td>\n",
       "      <td>giri</td>\n",
       "      <td>25.0</td>\n",
       "      <td>17.0</td>\n",
       "      <td>B</td>\n",
       "      <td>U</td>\n",
       "      <td>8.0</td>\n",
       "      <td>On</td>\n",
       "      <td>R</td>\n",
       "      <td>5.0</td>\n",
       "      <td>False</td>\n",
       "    </tr>\n",
       "    <tr>\n",
       "      <th>87</th>\n",
       "      <td>Giri</td>\n",
       "      <td>Kiruthik</td>\n",
       "      <td>28.5</td>\n",
       "      <td>20.5</td>\n",
       "      <td>B</td>\n",
       "      <td>L</td>\n",
       "      <td>8.0</td>\n",
       "      <td>Off</td>\n",
       "      <td>R</td>\n",
       "      <td>7.0</td>\n",
       "      <td>True</td>\n",
       "    </tr>\n",
       "  </tbody>\n",
       "</table>\n",
       "<p>88 rows × 11 columns</p>\n",
       "</div>"
      ],
      "text/plain": [
       "   Person Item_Identifier  Length  Breadth PaperQuality Angle  Foldings  \\\n",
       "0   Kevin             Som    29.0     20.0            A     U       8.0   \n",
       "1   Kevin           kevin    23.0     16.0            B     U       8.0   \n",
       "2   Kevin              RR    28.5     18.0            A     L      10.0   \n",
       "3   Priya          Nithya    27.0     20.0            A     U      10.0   \n",
       "4   Priya           Priya    29.5     17.5            B     U       5.0   \n",
       "..    ...             ...     ...      ...          ...   ...       ...   \n",
       "83  Priya           Priya    29.5     17.5            B     U       5.0   \n",
       "84  Priya         Sathana    28.5     18.5            B     L       5.0   \n",
       "85  Priya       Yogashree    30.0     19.0       others     U       8.0   \n",
       "86   Giri            giri    25.0     17.0            B     U       8.0   \n",
       "87   Giri        Kiruthik    28.5     20.5            B     L       8.0   \n",
       "\n",
       "   Windspeed  Dominanthand  Distance  Dist1  \n",
       "0          On            L       5.0  False  \n",
       "1          On            L       5.0  False  \n",
       "2          On            R       6.0   True  \n",
       "3          On            R       4.0  False  \n",
       "4         Off            R       8.0   True  \n",
       "..        ...          ...       ...    ...  \n",
       "83        Off            R       7.0   True  \n",
       "84        Off            R       5.0  False  \n",
       "85        Off            R       4.0  False  \n",
       "86         On            R       5.0  False  \n",
       "87        Off            R       7.0   True  \n",
       "\n",
       "[88 rows x 11 columns]"
      ]
     },
     "execution_count": 161,
     "metadata": {},
     "output_type": "execute_result"
    }
   ],
   "source": [
    "import numpy as np\n",
    "flight['Dist1']=np.where(flight['Distance']>5,True,False)\n",
    "flight\n"
   ]
  },
  {
   "cell_type": "code",
   "execution_count": 162,
   "id": "05535143",
   "metadata": {},
   "outputs": [
    {
     "data": {
      "text/html": [
       "<div>\n",
       "<style scoped>\n",
       "    .dataframe tbody tr th:only-of-type {\n",
       "        vertical-align: middle;\n",
       "    }\n",
       "\n",
       "    .dataframe tbody tr th {\n",
       "        vertical-align: top;\n",
       "    }\n",
       "\n",
       "    .dataframe thead th {\n",
       "        text-align: right;\n",
       "    }\n",
       "</style>\n",
       "<table border=\"1\" class=\"dataframe\">\n",
       "  <thead>\n",
       "    <tr style=\"text-align: right;\">\n",
       "      <th></th>\n",
       "      <th>Giri</th>\n",
       "      <th>Kevin</th>\n",
       "      <th>Priya</th>\n",
       "      <th>Shabana</th>\n",
       "    </tr>\n",
       "  </thead>\n",
       "  <tbody>\n",
       "    <tr>\n",
       "      <th>0</th>\n",
       "      <td>0</td>\n",
       "      <td>1</td>\n",
       "      <td>0</td>\n",
       "      <td>0</td>\n",
       "    </tr>\n",
       "    <tr>\n",
       "      <th>1</th>\n",
       "      <td>0</td>\n",
       "      <td>1</td>\n",
       "      <td>0</td>\n",
       "      <td>0</td>\n",
       "    </tr>\n",
       "    <tr>\n",
       "      <th>2</th>\n",
       "      <td>0</td>\n",
       "      <td>1</td>\n",
       "      <td>0</td>\n",
       "      <td>0</td>\n",
       "    </tr>\n",
       "    <tr>\n",
       "      <th>3</th>\n",
       "      <td>0</td>\n",
       "      <td>0</td>\n",
       "      <td>1</td>\n",
       "      <td>0</td>\n",
       "    </tr>\n",
       "    <tr>\n",
       "      <th>4</th>\n",
       "      <td>0</td>\n",
       "      <td>0</td>\n",
       "      <td>1</td>\n",
       "      <td>0</td>\n",
       "    </tr>\n",
       "    <tr>\n",
       "      <th>...</th>\n",
       "      <td>...</td>\n",
       "      <td>...</td>\n",
       "      <td>...</td>\n",
       "      <td>...</td>\n",
       "    </tr>\n",
       "    <tr>\n",
       "      <th>83</th>\n",
       "      <td>0</td>\n",
       "      <td>0</td>\n",
       "      <td>1</td>\n",
       "      <td>0</td>\n",
       "    </tr>\n",
       "    <tr>\n",
       "      <th>84</th>\n",
       "      <td>0</td>\n",
       "      <td>0</td>\n",
       "      <td>1</td>\n",
       "      <td>0</td>\n",
       "    </tr>\n",
       "    <tr>\n",
       "      <th>85</th>\n",
       "      <td>0</td>\n",
       "      <td>0</td>\n",
       "      <td>1</td>\n",
       "      <td>0</td>\n",
       "    </tr>\n",
       "    <tr>\n",
       "      <th>86</th>\n",
       "      <td>1</td>\n",
       "      <td>0</td>\n",
       "      <td>0</td>\n",
       "      <td>0</td>\n",
       "    </tr>\n",
       "    <tr>\n",
       "      <th>87</th>\n",
       "      <td>1</td>\n",
       "      <td>0</td>\n",
       "      <td>0</td>\n",
       "      <td>0</td>\n",
       "    </tr>\n",
       "  </tbody>\n",
       "</table>\n",
       "<p>88 rows × 4 columns</p>\n",
       "</div>"
      ],
      "text/plain": [
       "    Giri  Kevin  Priya  Shabana\n",
       "0      0      1      0        0\n",
       "1      0      1      0        0\n",
       "2      0      1      0        0\n",
       "3      0      0      1        0\n",
       "4      0      0      1        0\n",
       "..   ...    ...    ...      ...\n",
       "83     0      0      1        0\n",
       "84     0      0      1        0\n",
       "85     0      0      1        0\n",
       "86     1      0      0        0\n",
       "87     1      0      0        0\n",
       "\n",
       "[88 rows x 4 columns]"
      ]
     },
     "execution_count": 162,
     "metadata": {},
     "output_type": "execute_result"
    }
   ],
   "source": [
    "pd.get_dummies(flight.Person)"
   ]
  },
  {
   "cell_type": "code",
   "execution_count": 163,
   "id": "eb99bcdd",
   "metadata": {},
   "outputs": [
    {
     "data": {
      "text/html": [
       "<div>\n",
       "<style scoped>\n",
       "    .dataframe tbody tr th:only-of-type {\n",
       "        vertical-align: middle;\n",
       "    }\n",
       "\n",
       "    .dataframe tbody tr th {\n",
       "        vertical-align: top;\n",
       "    }\n",
       "\n",
       "    .dataframe thead th {\n",
       "        text-align: right;\n",
       "    }\n",
       "</style>\n",
       "<table border=\"1\" class=\"dataframe\">\n",
       "  <thead>\n",
       "    <tr style=\"text-align: right;\">\n",
       "      <th></th>\n",
       "      <th>Length</th>\n",
       "      <th>Breadth</th>\n",
       "      <th>Foldings</th>\n",
       "      <th>Distance</th>\n",
       "      <th>Dist1</th>\n",
       "      <th>Person_Giri</th>\n",
       "      <th>Person_Kevin</th>\n",
       "      <th>Person_Priya</th>\n",
       "      <th>Person_Shabana</th>\n",
       "      <th>Item_Identifier_AJ</th>\n",
       "      <th>...</th>\n",
       "      <th>PaperQuality_A</th>\n",
       "      <th>PaperQuality_B</th>\n",
       "      <th>PaperQuality_others</th>\n",
       "      <th>Angle_L</th>\n",
       "      <th>Angle_U</th>\n",
       "      <th>Angle_others</th>\n",
       "      <th>Windspeed _Off</th>\n",
       "      <th>Windspeed _On</th>\n",
       "      <th>Dominanthand_L</th>\n",
       "      <th>Dominanthand_R</th>\n",
       "    </tr>\n",
       "  </thead>\n",
       "  <tbody>\n",
       "    <tr>\n",
       "      <th>0</th>\n",
       "      <td>29.0</td>\n",
       "      <td>20.0</td>\n",
       "      <td>8.0</td>\n",
       "      <td>5.0</td>\n",
       "      <td>False</td>\n",
       "      <td>0</td>\n",
       "      <td>1</td>\n",
       "      <td>0</td>\n",
       "      <td>0</td>\n",
       "      <td>0</td>\n",
       "      <td>...</td>\n",
       "      <td>1</td>\n",
       "      <td>0</td>\n",
       "      <td>0</td>\n",
       "      <td>0</td>\n",
       "      <td>1</td>\n",
       "      <td>0</td>\n",
       "      <td>0</td>\n",
       "      <td>1</td>\n",
       "      <td>1</td>\n",
       "      <td>0</td>\n",
       "    </tr>\n",
       "    <tr>\n",
       "      <th>1</th>\n",
       "      <td>23.0</td>\n",
       "      <td>16.0</td>\n",
       "      <td>8.0</td>\n",
       "      <td>5.0</td>\n",
       "      <td>False</td>\n",
       "      <td>0</td>\n",
       "      <td>1</td>\n",
       "      <td>0</td>\n",
       "      <td>0</td>\n",
       "      <td>0</td>\n",
       "      <td>...</td>\n",
       "      <td>0</td>\n",
       "      <td>1</td>\n",
       "      <td>0</td>\n",
       "      <td>0</td>\n",
       "      <td>1</td>\n",
       "      <td>0</td>\n",
       "      <td>0</td>\n",
       "      <td>1</td>\n",
       "      <td>1</td>\n",
       "      <td>0</td>\n",
       "    </tr>\n",
       "    <tr>\n",
       "      <th>2</th>\n",
       "      <td>28.5</td>\n",
       "      <td>18.0</td>\n",
       "      <td>10.0</td>\n",
       "      <td>6.0</td>\n",
       "      <td>True</td>\n",
       "      <td>0</td>\n",
       "      <td>1</td>\n",
       "      <td>0</td>\n",
       "      <td>0</td>\n",
       "      <td>0</td>\n",
       "      <td>...</td>\n",
       "      <td>1</td>\n",
       "      <td>0</td>\n",
       "      <td>0</td>\n",
       "      <td>1</td>\n",
       "      <td>0</td>\n",
       "      <td>0</td>\n",
       "      <td>0</td>\n",
       "      <td>1</td>\n",
       "      <td>0</td>\n",
       "      <td>1</td>\n",
       "    </tr>\n",
       "    <tr>\n",
       "      <th>3</th>\n",
       "      <td>27.0</td>\n",
       "      <td>20.0</td>\n",
       "      <td>10.0</td>\n",
       "      <td>4.0</td>\n",
       "      <td>False</td>\n",
       "      <td>0</td>\n",
       "      <td>0</td>\n",
       "      <td>1</td>\n",
       "      <td>0</td>\n",
       "      <td>0</td>\n",
       "      <td>...</td>\n",
       "      <td>1</td>\n",
       "      <td>0</td>\n",
       "      <td>0</td>\n",
       "      <td>0</td>\n",
       "      <td>1</td>\n",
       "      <td>0</td>\n",
       "      <td>0</td>\n",
       "      <td>1</td>\n",
       "      <td>0</td>\n",
       "      <td>1</td>\n",
       "    </tr>\n",
       "    <tr>\n",
       "      <th>4</th>\n",
       "      <td>29.5</td>\n",
       "      <td>17.5</td>\n",
       "      <td>5.0</td>\n",
       "      <td>8.0</td>\n",
       "      <td>True</td>\n",
       "      <td>0</td>\n",
       "      <td>0</td>\n",
       "      <td>1</td>\n",
       "      <td>0</td>\n",
       "      <td>0</td>\n",
       "      <td>...</td>\n",
       "      <td>0</td>\n",
       "      <td>1</td>\n",
       "      <td>0</td>\n",
       "      <td>0</td>\n",
       "      <td>1</td>\n",
       "      <td>0</td>\n",
       "      <td>1</td>\n",
       "      <td>0</td>\n",
       "      <td>0</td>\n",
       "      <td>1</td>\n",
       "    </tr>\n",
       "    <tr>\n",
       "      <th>...</th>\n",
       "      <td>...</td>\n",
       "      <td>...</td>\n",
       "      <td>...</td>\n",
       "      <td>...</td>\n",
       "      <td>...</td>\n",
       "      <td>...</td>\n",
       "      <td>...</td>\n",
       "      <td>...</td>\n",
       "      <td>...</td>\n",
       "      <td>...</td>\n",
       "      <td>...</td>\n",
       "      <td>...</td>\n",
       "      <td>...</td>\n",
       "      <td>...</td>\n",
       "      <td>...</td>\n",
       "      <td>...</td>\n",
       "      <td>...</td>\n",
       "      <td>...</td>\n",
       "      <td>...</td>\n",
       "      <td>...</td>\n",
       "      <td>...</td>\n",
       "    </tr>\n",
       "    <tr>\n",
       "      <th>83</th>\n",
       "      <td>29.5</td>\n",
       "      <td>17.5</td>\n",
       "      <td>5.0</td>\n",
       "      <td>7.0</td>\n",
       "      <td>True</td>\n",
       "      <td>0</td>\n",
       "      <td>0</td>\n",
       "      <td>1</td>\n",
       "      <td>0</td>\n",
       "      <td>0</td>\n",
       "      <td>...</td>\n",
       "      <td>0</td>\n",
       "      <td>1</td>\n",
       "      <td>0</td>\n",
       "      <td>0</td>\n",
       "      <td>1</td>\n",
       "      <td>0</td>\n",
       "      <td>1</td>\n",
       "      <td>0</td>\n",
       "      <td>0</td>\n",
       "      <td>1</td>\n",
       "    </tr>\n",
       "    <tr>\n",
       "      <th>84</th>\n",
       "      <td>28.5</td>\n",
       "      <td>18.5</td>\n",
       "      <td>5.0</td>\n",
       "      <td>5.0</td>\n",
       "      <td>False</td>\n",
       "      <td>0</td>\n",
       "      <td>0</td>\n",
       "      <td>1</td>\n",
       "      <td>0</td>\n",
       "      <td>0</td>\n",
       "      <td>...</td>\n",
       "      <td>0</td>\n",
       "      <td>1</td>\n",
       "      <td>0</td>\n",
       "      <td>1</td>\n",
       "      <td>0</td>\n",
       "      <td>0</td>\n",
       "      <td>1</td>\n",
       "      <td>0</td>\n",
       "      <td>0</td>\n",
       "      <td>1</td>\n",
       "    </tr>\n",
       "    <tr>\n",
       "      <th>85</th>\n",
       "      <td>30.0</td>\n",
       "      <td>19.0</td>\n",
       "      <td>8.0</td>\n",
       "      <td>4.0</td>\n",
       "      <td>False</td>\n",
       "      <td>0</td>\n",
       "      <td>0</td>\n",
       "      <td>1</td>\n",
       "      <td>0</td>\n",
       "      <td>0</td>\n",
       "      <td>...</td>\n",
       "      <td>0</td>\n",
       "      <td>0</td>\n",
       "      <td>1</td>\n",
       "      <td>0</td>\n",
       "      <td>1</td>\n",
       "      <td>0</td>\n",
       "      <td>1</td>\n",
       "      <td>0</td>\n",
       "      <td>0</td>\n",
       "      <td>1</td>\n",
       "    </tr>\n",
       "    <tr>\n",
       "      <th>86</th>\n",
       "      <td>25.0</td>\n",
       "      <td>17.0</td>\n",
       "      <td>8.0</td>\n",
       "      <td>5.0</td>\n",
       "      <td>False</td>\n",
       "      <td>1</td>\n",
       "      <td>0</td>\n",
       "      <td>0</td>\n",
       "      <td>0</td>\n",
       "      <td>0</td>\n",
       "      <td>...</td>\n",
       "      <td>0</td>\n",
       "      <td>1</td>\n",
       "      <td>0</td>\n",
       "      <td>0</td>\n",
       "      <td>1</td>\n",
       "      <td>0</td>\n",
       "      <td>0</td>\n",
       "      <td>1</td>\n",
       "      <td>0</td>\n",
       "      <td>1</td>\n",
       "    </tr>\n",
       "    <tr>\n",
       "      <th>87</th>\n",
       "      <td>28.5</td>\n",
       "      <td>20.5</td>\n",
       "      <td>8.0</td>\n",
       "      <td>7.0</td>\n",
       "      <td>True</td>\n",
       "      <td>1</td>\n",
       "      <td>0</td>\n",
       "      <td>0</td>\n",
       "      <td>0</td>\n",
       "      <td>0</td>\n",
       "      <td>...</td>\n",
       "      <td>0</td>\n",
       "      <td>1</td>\n",
       "      <td>0</td>\n",
       "      <td>1</td>\n",
       "      <td>0</td>\n",
       "      <td>0</td>\n",
       "      <td>1</td>\n",
       "      <td>0</td>\n",
       "      <td>0</td>\n",
       "      <td>1</td>\n",
       "    </tr>\n",
       "  </tbody>\n",
       "</table>\n",
       "<p>88 rows × 32 columns</p>\n",
       "</div>"
      ],
      "text/plain": [
       "    Length  Breadth  Foldings  Distance  Dist1  Person_Giri  Person_Kevin  \\\n",
       "0     29.0     20.0       8.0       5.0  False            0             1   \n",
       "1     23.0     16.0       8.0       5.0  False            0             1   \n",
       "2     28.5     18.0      10.0       6.0   True            0             1   \n",
       "3     27.0     20.0      10.0       4.0  False            0             0   \n",
       "4     29.5     17.5       5.0       8.0   True            0             0   \n",
       "..     ...      ...       ...       ...    ...          ...           ...   \n",
       "83    29.5     17.5       5.0       7.0   True            0             0   \n",
       "84    28.5     18.5       5.0       5.0  False            0             0   \n",
       "85    30.0     19.0       8.0       4.0  False            0             0   \n",
       "86    25.0     17.0       8.0       5.0  False            1             0   \n",
       "87    28.5     20.5       8.0       7.0   True            1             0   \n",
       "\n",
       "    Person_Priya  Person_Shabana  Item_Identifier_AJ  ...  PaperQuality_A  \\\n",
       "0              0               0                   0  ...               1   \n",
       "1              0               0                   0  ...               0   \n",
       "2              0               0                   0  ...               1   \n",
       "3              1               0                   0  ...               1   \n",
       "4              1               0                   0  ...               0   \n",
       "..           ...             ...                 ...  ...             ...   \n",
       "83             1               0                   0  ...               0   \n",
       "84             1               0                   0  ...               0   \n",
       "85             1               0                   0  ...               0   \n",
       "86             0               0                   0  ...               0   \n",
       "87             0               0                   0  ...               0   \n",
       "\n",
       "    PaperQuality_B  PaperQuality_others  Angle_L  Angle_U  Angle_others  \\\n",
       "0                0                    0        0        1             0   \n",
       "1                1                    0        0        1             0   \n",
       "2                0                    0        1        0             0   \n",
       "3                0                    0        0        1             0   \n",
       "4                1                    0        0        1             0   \n",
       "..             ...                  ...      ...      ...           ...   \n",
       "83               1                    0        0        1             0   \n",
       "84               1                    0        1        0             0   \n",
       "85               0                    1        0        1             0   \n",
       "86               1                    0        0        1             0   \n",
       "87               1                    0        1        0             0   \n",
       "\n",
       "    Windspeed _Off  Windspeed _On  Dominanthand_L  Dominanthand_R  \n",
       "0                0              1               1               0  \n",
       "1                0              1               1               0  \n",
       "2                0              1               0               1  \n",
       "3                0              1               0               1  \n",
       "4                1              0               0               1  \n",
       "..             ...            ...             ...             ...  \n",
       "83               1              0               0               1  \n",
       "84               1              0               0               1  \n",
       "85               1              0               0               1  \n",
       "86               0              1               0               1  \n",
       "87               1              0               0               1  \n",
       "\n",
       "[88 rows x 32 columns]"
      ]
     },
     "execution_count": 163,
     "metadata": {},
     "output_type": "execute_result"
    }
   ],
   "source": [
    "\n",
    "dummy=pd.get_dummies(flight)\n",
    "dummy"
   ]
  },
  {
   "cell_type": "code",
   "execution_count": 164,
   "id": "b2487a46",
   "metadata": {},
   "outputs": [],
   "source": [
    "\n",
    "x=dummy.drop('Dist1',axis=1)\n",
    "y=dummy.Dist1\n"
   ]
  },
  {
   "cell_type": "code",
   "execution_count": 165,
   "id": "413a724f",
   "metadata": {},
   "outputs": [],
   "source": [
    "\n",
    "from sklearn.model_selection import train_test_split\n",
    "x_train,x_test,y_train,y_test=train_test_split(x,y,test_size=0.2,random_state=25)"
   ]
  },
  {
   "cell_type": "code",
   "execution_count": 166,
   "id": "4ecbc205",
   "metadata": {},
   "outputs": [],
   "source": [
    "from sklearn.linear_model import LogisticRegression\n",
    "model=LogisticRegression()"
   ]
  },
  {
   "cell_type": "code",
   "execution_count": 167,
   "id": "f763a83e",
   "metadata": {},
   "outputs": [
    {
     "data": {
      "text/plain": [
       "LogisticRegression()"
      ]
     },
     "execution_count": 167,
     "metadata": {},
     "output_type": "execute_result"
    }
   ],
   "source": [
    "model.fit(x_train,y_train)\n"
   ]
  },
  {
   "cell_type": "code",
   "execution_count": 168,
   "id": "17ee653c",
   "metadata": {},
   "outputs": [
    {
     "data": {
      "text/plain": [
       "array([False,  True, False,  True,  True,  True, False,  True,  True,\n",
       "       False,  True,  True,  True, False,  True,  True,  True,  True])"
      ]
     },
     "execution_count": 168,
     "metadata": {},
     "output_type": "execute_result"
    }
   ],
   "source": [
    "model.predict(x_test)\n"
   ]
  },
  {
   "cell_type": "code",
   "execution_count": 169,
   "id": "1e6a9f82",
   "metadata": {},
   "outputs": [],
   "source": [
    "predicted_y=model.predict(x_test)\n"
   ]
  },
  {
   "cell_type": "code",
   "execution_count": 170,
   "id": "c194548d",
   "metadata": {},
   "outputs": [
    {
     "data": {
      "text/plain": [
       "1.0"
      ]
     },
     "execution_count": 170,
     "metadata": {},
     "output_type": "execute_result"
    }
   ],
   "source": [
    "\n",
    "model.score(x_test,y_test)"
   ]
  },
  {
   "cell_type": "code",
   "execution_count": 171,
   "id": "7550959a",
   "metadata": {},
   "outputs": [
    {
     "data": {
      "text/plain": [
       "array([0.22786918, 0.99987075, 0.00177377, 0.77301762, 0.99223175,\n",
       "       0.98541343, 0.46126905, 0.99951481, 0.68390814, 0.15502776,\n",
       "       0.99998269, 0.80727441, 0.99999893, 0.10260369, 0.82754218,\n",
       "       0.85909216, 0.81397413, 0.9844165 ])"
      ]
     },
     "execution_count": 171,
     "metadata": {},
     "output_type": "execute_result"
    }
   ],
   "source": [
    "\n",
    "probability=model.predict_proba(x_test)[:,1]\n",
    "probability"
   ]
  },
  {
   "cell_type": "code",
   "execution_count": 172,
   "id": "27bb8865",
   "metadata": {},
   "outputs": [
    {
     "data": {
      "text/plain": [
       "array([[ 5,  0],\n",
       "       [ 0, 13]], dtype=int64)"
      ]
     },
     "execution_count": 172,
     "metadata": {},
     "output_type": "execute_result"
    }
   ],
   "source": [
    "\n",
    "from sklearn.metrics import confusion_matrix\n",
    "cm=confusion_matrix(y_test,predicted_y)\n",
    "cm\n"
   ]
  },
  {
   "cell_type": "code",
   "execution_count": 173,
   "id": "ee9425b8",
   "metadata": {},
   "outputs": [],
   "source": [
    "from sklearn.ensemble import RandomForestRegressor"
   ]
  },
  {
   "cell_type": "code",
   "execution_count": 174,
   "id": "9dca8cbc",
   "metadata": {},
   "outputs": [],
   "source": [
    "flight = RandomForestRegressor(n_estimators = 1000, random_state = 42)"
   ]
  },
  {
   "cell_type": "code",
   "execution_count": 175,
   "id": "ed0b36f9",
   "metadata": {},
   "outputs": [],
   "source": [
    "flight.fit(x_train, y_train);"
   ]
  },
  {
   "cell_type": "code",
   "execution_count": 176,
   "id": "4e467ceb",
   "metadata": {},
   "outputs": [],
   "source": [
    "predictions = flight.predict(x_test)\n"
   ]
  },
  {
   "cell_type": "code",
   "execution_count": 177,
   "id": "5070936b",
   "metadata": {},
   "outputs": [],
   "source": [
    "errors = abs(predictions - y_test)"
   ]
  },
  {
   "cell_type": "code",
   "execution_count": 178,
   "id": "c7ec6ba4",
   "metadata": {},
   "outputs": [
    {
     "name": "stdout",
     "output_type": "stream",
     "text": [
      "Mean Absolute Error: 0.0 degrees.\n"
     ]
    }
   ],
   "source": [
    "print('Mean Absolute Error:', round(np.mean(errors), 2), 'degrees.')"
   ]
  },
  {
   "cell_type": "code",
   "execution_count": 179,
   "id": "edf1d087",
   "metadata": {},
   "outputs": [],
   "source": [
    "mape = 100 * (errors / y_test)\n"
   ]
  },
  {
   "cell_type": "code",
   "execution_count": 180,
   "id": "1cf0171d",
   "metadata": {},
   "outputs": [
    {
     "name": "stdout",
     "output_type": "stream",
     "text": [
      "Accuracy: 100.0 %.\n"
     ]
    }
   ],
   "source": [
    "accuracy = 100 - np.mean(mape)\n",
    "print('Accuracy:', round(accuracy, 2), '%.')"
   ]
  },
  {
   "cell_type": "code",
   "execution_count": null,
   "id": "af1c30be",
   "metadata": {},
   "outputs": [],
   "source": []
  },
  {
   "cell_type": "code",
   "execution_count": 181,
   "id": "51e8740b",
   "metadata": {},
   "outputs": [],
   "source": [
    "from sklearn.model_selection import GridSearchCV\n",
    "from sklearn.metrics import classification_report\n",
    "from sklearn.ensemble import GradientBoostingClassifier"
   ]
  },
  {
   "cell_type": "code",
   "execution_count": 185,
   "id": "abdea5f2",
   "metadata": {
    "scrolled": true
   },
   "outputs": [
    {
     "name": "stdout",
     "output_type": "stream",
     "text": [
      "Best Parameters: {'learning_rate': 0.01, 'n_estimators': 100}\n",
      "Train Score: 1.0\n",
      "Test Score: 1.0\n"
     ]
    }
   ],
   "source": [
    "grid = {\n",
    "\n",
    "    'learning_rate':[0.01,0.05,0.1],\n",
    "\n",
    "    'n_estimators':np.arange(100,500,100),\n",
    "\n",
    "}\n",
    "\n",
    "\n",
    "flight = GradientBoostingClassifier()\n",
    "\n",
    "flight_cv = GridSearchCV(flight, grid, cv = 4)\n",
    "\n",
    "flight_cv.fit(x_train,y_train)\n",
    "\n",
    "print(\"Best Parameters:\",flight_cv.best_params_)\n",
    "\n",
    "print(\"Train Score:\",flight_cv.best_score_)\n",
    "\n",
    "print(\"Test Score:\",flight_cv.score(x_test,y_test))\n"
   ]
  },
  {
   "cell_type": "code",
   "execution_count": 186,
   "id": "8f538aa1",
   "metadata": {},
   "outputs": [
    {
     "name": "stdout",
     "output_type": "stream",
     "text": [
      "Mean Accuracy: 0.899 (0.031)\n"
     ]
    }
   ],
   "source": [
    "from numpy import mean\n",
    "from numpy import std\n",
    "from sklearn.datasets import make_classification\n",
    "from sklearn.model_selection import cross_val_score\n",
    "from sklearn.model_selection import RepeatedStratifiedKFold\n",
    "from sklearn.ensemble import GradientBoostingClassifier\n",
    "# define dataset\n",
    "X, y = make_classification(n_samples=1000, n_features=20, n_informative=15, n_redundant=5, random_state=7)\n",
    "# define the model\n",
    "model = GradientBoostingClassifier()\n",
    "# define the evaluation method\n",
    "cv = RepeatedStratifiedKFold(n_splits=10, n_repeats=3, random_state=1)\n",
    "# evaluate the model on the dataset\n",
    "n_scores = cross_val_score(model, X, y, scoring='accuracy', cv=cv, n_jobs=-1)\n",
    "# report performance\n",
    "print('Mean Accuracy: %.3f (%.3f)' % (mean(n_scores), std(n_scores)))"
   ]
  },
  {
   "cell_type": "code",
   "execution_count": 188,
   "id": "00828737",
   "metadata": {},
   "outputs": [
    {
     "data": {
      "text/html": [
       "<div>\n",
       "<style scoped>\n",
       "    .dataframe tbody tr th:only-of-type {\n",
       "        vertical-align: middle;\n",
       "    }\n",
       "\n",
       "    .dataframe tbody tr th {\n",
       "        vertical-align: top;\n",
       "    }\n",
       "\n",
       "    .dataframe thead th {\n",
       "        text-align: right;\n",
       "    }\n",
       "</style>\n",
       "<table border=\"1\" class=\"dataframe\">\n",
       "  <thead>\n",
       "    <tr style=\"text-align: right;\">\n",
       "      <th></th>\n",
       "      <th>0</th>\n",
       "      <th>1</th>\n",
       "      <th>2</th>\n",
       "      <th>3</th>\n",
       "      <th>4</th>\n",
       "      <th>5</th>\n",
       "      <th>6</th>\n",
       "      <th>7</th>\n",
       "      <th>8</th>\n",
       "      <th>9</th>\n",
       "      <th>...</th>\n",
       "      <th>22</th>\n",
       "      <th>23</th>\n",
       "      <th>24</th>\n",
       "      <th>25</th>\n",
       "      <th>26</th>\n",
       "      <th>27</th>\n",
       "      <th>28</th>\n",
       "      <th>29</th>\n",
       "      <th>30</th>\n",
       "      <th>31</th>\n",
       "    </tr>\n",
       "  </thead>\n",
       "  <tbody>\n",
       "    <tr>\n",
       "      <th>count</th>\n",
       "      <td>88.000000</td>\n",
       "      <td>88.000000</td>\n",
       "      <td>88.000000</td>\n",
       "      <td>88.000000</td>\n",
       "      <td>88.000000</td>\n",
       "      <td>88.000000</td>\n",
       "      <td>88.000000</td>\n",
       "      <td>88.000000</td>\n",
       "      <td>88.000000</td>\n",
       "      <td>88.000000</td>\n",
       "      <td>...</td>\n",
       "      <td>88.000000</td>\n",
       "      <td>88.000000</td>\n",
       "      <td>88.000000</td>\n",
       "      <td>88.000000</td>\n",
       "      <td>88.000000</td>\n",
       "      <td>88.000000</td>\n",
       "      <td>88.000000</td>\n",
       "      <td>88.000000</td>\n",
       "      <td>88.000000</td>\n",
       "      <td>88.000000</td>\n",
       "    </tr>\n",
       "    <tr>\n",
       "      <th>mean</th>\n",
       "      <td>0.485114</td>\n",
       "      <td>0.555556</td>\n",
       "      <td>0.627273</td>\n",
       "      <td>0.511364</td>\n",
       "      <td>0.625000</td>\n",
       "      <td>0.250000</td>\n",
       "      <td>0.204545</td>\n",
       "      <td>0.340909</td>\n",
       "      <td>0.204545</td>\n",
       "      <td>0.068182</td>\n",
       "      <td>...</td>\n",
       "      <td>0.375000</td>\n",
       "      <td>0.534091</td>\n",
       "      <td>0.090909</td>\n",
       "      <td>0.250000</td>\n",
       "      <td>0.704545</td>\n",
       "      <td>0.045455</td>\n",
       "      <td>0.500000</td>\n",
       "      <td>0.500000</td>\n",
       "      <td>0.204545</td>\n",
       "      <td>0.795455</td>\n",
       "    </tr>\n",
       "    <tr>\n",
       "      <th>std</th>\n",
       "      <td>0.203135</td>\n",
       "      <td>0.297571</td>\n",
       "      <td>0.347314</td>\n",
       "      <td>0.233382</td>\n",
       "      <td>0.486897</td>\n",
       "      <td>0.435494</td>\n",
       "      <td>0.405681</td>\n",
       "      <td>0.476731</td>\n",
       "      <td>0.405681</td>\n",
       "      <td>0.253502</td>\n",
       "      <td>...</td>\n",
       "      <td>0.486897</td>\n",
       "      <td>0.501695</td>\n",
       "      <td>0.289127</td>\n",
       "      <td>0.435494</td>\n",
       "      <td>0.458861</td>\n",
       "      <td>0.209493</td>\n",
       "      <td>0.502865</td>\n",
       "      <td>0.502865</td>\n",
       "      <td>0.405681</td>\n",
       "      <td>0.405681</td>\n",
       "    </tr>\n",
       "    <tr>\n",
       "      <th>min</th>\n",
       "      <td>0.000000</td>\n",
       "      <td>0.000000</td>\n",
       "      <td>0.000000</td>\n",
       "      <td>0.000000</td>\n",
       "      <td>0.000000</td>\n",
       "      <td>0.000000</td>\n",
       "      <td>0.000000</td>\n",
       "      <td>0.000000</td>\n",
       "      <td>0.000000</td>\n",
       "      <td>0.000000</td>\n",
       "      <td>...</td>\n",
       "      <td>0.000000</td>\n",
       "      <td>0.000000</td>\n",
       "      <td>0.000000</td>\n",
       "      <td>0.000000</td>\n",
       "      <td>0.000000</td>\n",
       "      <td>0.000000</td>\n",
       "      <td>0.000000</td>\n",
       "      <td>0.000000</td>\n",
       "      <td>0.000000</td>\n",
       "      <td>0.000000</td>\n",
       "    </tr>\n",
       "    <tr>\n",
       "      <th>25%</th>\n",
       "      <td>0.375000</td>\n",
       "      <td>0.333333</td>\n",
       "      <td>0.600000</td>\n",
       "      <td>0.375000</td>\n",
       "      <td>0.000000</td>\n",
       "      <td>0.000000</td>\n",
       "      <td>0.000000</td>\n",
       "      <td>0.000000</td>\n",
       "      <td>0.000000</td>\n",
       "      <td>0.000000</td>\n",
       "      <td>...</td>\n",
       "      <td>0.000000</td>\n",
       "      <td>0.000000</td>\n",
       "      <td>0.000000</td>\n",
       "      <td>0.000000</td>\n",
       "      <td>0.000000</td>\n",
       "      <td>0.000000</td>\n",
       "      <td>0.000000</td>\n",
       "      <td>0.000000</td>\n",
       "      <td>0.000000</td>\n",
       "      <td>1.000000</td>\n",
       "    </tr>\n",
       "    <tr>\n",
       "      <th>50%</th>\n",
       "      <td>0.575000</td>\n",
       "      <td>0.555556</td>\n",
       "      <td>0.600000</td>\n",
       "      <td>0.500000</td>\n",
       "      <td>1.000000</td>\n",
       "      <td>0.000000</td>\n",
       "      <td>0.000000</td>\n",
       "      <td>0.000000</td>\n",
       "      <td>0.000000</td>\n",
       "      <td>0.000000</td>\n",
       "      <td>...</td>\n",
       "      <td>0.000000</td>\n",
       "      <td>1.000000</td>\n",
       "      <td>0.000000</td>\n",
       "      <td>0.000000</td>\n",
       "      <td>1.000000</td>\n",
       "      <td>0.000000</td>\n",
       "      <td>0.500000</td>\n",
       "      <td>0.500000</td>\n",
       "      <td>0.000000</td>\n",
       "      <td>1.000000</td>\n",
       "    </tr>\n",
       "    <tr>\n",
       "      <th>75%</th>\n",
       "      <td>0.625000</td>\n",
       "      <td>0.888889</td>\n",
       "      <td>1.000000</td>\n",
       "      <td>0.625000</td>\n",
       "      <td>1.000000</td>\n",
       "      <td>0.250000</td>\n",
       "      <td>0.000000</td>\n",
       "      <td>1.000000</td>\n",
       "      <td>0.000000</td>\n",
       "      <td>0.000000</td>\n",
       "      <td>...</td>\n",
       "      <td>1.000000</td>\n",
       "      <td>1.000000</td>\n",
       "      <td>0.000000</td>\n",
       "      <td>0.250000</td>\n",
       "      <td>1.000000</td>\n",
       "      <td>0.000000</td>\n",
       "      <td>1.000000</td>\n",
       "      <td>1.000000</td>\n",
       "      <td>0.000000</td>\n",
       "      <td>1.000000</td>\n",
       "    </tr>\n",
       "    <tr>\n",
       "      <th>max</th>\n",
       "      <td>1.000000</td>\n",
       "      <td>1.000000</td>\n",
       "      <td>1.000000</td>\n",
       "      <td>1.000000</td>\n",
       "      <td>1.000000</td>\n",
       "      <td>1.000000</td>\n",
       "      <td>1.000000</td>\n",
       "      <td>1.000000</td>\n",
       "      <td>1.000000</td>\n",
       "      <td>1.000000</td>\n",
       "      <td>...</td>\n",
       "      <td>1.000000</td>\n",
       "      <td>1.000000</td>\n",
       "      <td>1.000000</td>\n",
       "      <td>1.000000</td>\n",
       "      <td>1.000000</td>\n",
       "      <td>1.000000</td>\n",
       "      <td>1.000000</td>\n",
       "      <td>1.000000</td>\n",
       "      <td>1.000000</td>\n",
       "      <td>1.000000</td>\n",
       "    </tr>\n",
       "  </tbody>\n",
       "</table>\n",
       "<p>8 rows × 32 columns</p>\n",
       "</div>"
      ],
      "text/plain": [
       "              0          1          2          3          4          5   \\\n",
       "count  88.000000  88.000000  88.000000  88.000000  88.000000  88.000000   \n",
       "mean    0.485114   0.555556   0.627273   0.511364   0.625000   0.250000   \n",
       "std     0.203135   0.297571   0.347314   0.233382   0.486897   0.435494   \n",
       "min     0.000000   0.000000   0.000000   0.000000   0.000000   0.000000   \n",
       "25%     0.375000   0.333333   0.600000   0.375000   0.000000   0.000000   \n",
       "50%     0.575000   0.555556   0.600000   0.500000   1.000000   0.000000   \n",
       "75%     0.625000   0.888889   1.000000   0.625000   1.000000   0.250000   \n",
       "max     1.000000   1.000000   1.000000   1.000000   1.000000   1.000000   \n",
       "\n",
       "              6          7          8          9   ...         22         23  \\\n",
       "count  88.000000  88.000000  88.000000  88.000000  ...  88.000000  88.000000   \n",
       "mean    0.204545   0.340909   0.204545   0.068182  ...   0.375000   0.534091   \n",
       "std     0.405681   0.476731   0.405681   0.253502  ...   0.486897   0.501695   \n",
       "min     0.000000   0.000000   0.000000   0.000000  ...   0.000000   0.000000   \n",
       "25%     0.000000   0.000000   0.000000   0.000000  ...   0.000000   0.000000   \n",
       "50%     0.000000   0.000000   0.000000   0.000000  ...   0.000000   1.000000   \n",
       "75%     0.000000   1.000000   0.000000   0.000000  ...   1.000000   1.000000   \n",
       "max     1.000000   1.000000   1.000000   1.000000  ...   1.000000   1.000000   \n",
       "\n",
       "              24         25         26         27         28         29  \\\n",
       "count  88.000000  88.000000  88.000000  88.000000  88.000000  88.000000   \n",
       "mean    0.090909   0.250000   0.704545   0.045455   0.500000   0.500000   \n",
       "std     0.289127   0.435494   0.458861   0.209493   0.502865   0.502865   \n",
       "min     0.000000   0.000000   0.000000   0.000000   0.000000   0.000000   \n",
       "25%     0.000000   0.000000   0.000000   0.000000   0.000000   0.000000   \n",
       "50%     0.000000   0.000000   1.000000   0.000000   0.500000   0.500000   \n",
       "75%     0.000000   0.250000   1.000000   0.000000   1.000000   1.000000   \n",
       "max     1.000000   1.000000   1.000000   1.000000   1.000000   1.000000   \n",
       "\n",
       "              30         31  \n",
       "count  88.000000  88.000000  \n",
       "mean    0.204545   0.795455  \n",
       "std     0.405681   0.405681  \n",
       "min     0.000000   0.000000  \n",
       "25%     0.000000   1.000000  \n",
       "50%     0.000000   1.000000  \n",
       "75%     0.000000   1.000000  \n",
       "max     1.000000   1.000000  \n",
       "\n",
       "[8 rows x 32 columns]"
      ]
     },
     "execution_count": 188,
     "metadata": {},
     "output_type": "execute_result"
    }
   ],
   "source": [
    "from sklearn.preprocessing import MinMaxScale\n",
    "scaler=MinMaxScaler()\n",
    "model=scaler.fit(dummy)\n",
    "scaled_data=model.transform(dummy)\n",
    "scaled_data1=pd.DataFrame(scaled_data)\n",
    "scaled_data1.describe()"
   ]
  },
  {
   "cell_type": "code",
   "execution_count": 189,
   "id": "d8fc82a8",
   "metadata": {},
   "outputs": [
    {
     "name": "stdout",
     "output_type": "stream",
     "text": [
      "[[0.6        0.88888889 0.6        ... 1.         1.         0.        ]\n",
      " [0.3        0.         0.6        ... 1.         1.         0.        ]\n",
      " [0.575      0.44444444 1.         ... 1.         0.         1.        ]\n",
      " ...\n",
      " [0.65       0.66666667 0.6        ... 0.         0.         1.        ]\n",
      " [0.4        0.22222222 0.6        ... 1.         0.         1.        ]\n",
      " [0.575      1.         0.6        ... 0.         0.         1.        ]]\n"
     ]
    }
   ],
   "source": [
    "print(scaled_data)"
   ]
  },
  {
   "cell_type": "code",
   "execution_count": 196,
   "id": "7df74ec2",
   "metadata": {},
   "outputs": [
    {
     "data": {
      "text/html": [
       "<div>\n",
       "<style scoped>\n",
       "    .dataframe tbody tr th:only-of-type {\n",
       "        vertical-align: middle;\n",
       "    }\n",
       "\n",
       "    .dataframe tbody tr th {\n",
       "        vertical-align: top;\n",
       "    }\n",
       "\n",
       "    .dataframe thead th {\n",
       "        text-align: right;\n",
       "    }\n",
       "</style>\n",
       "<table border=\"1\" class=\"dataframe\">\n",
       "  <thead>\n",
       "    <tr style=\"text-align: right;\">\n",
       "      <th></th>\n",
       "      <th>Person</th>\n",
       "      <th>Item_Identifier</th>\n",
       "      <th>Length</th>\n",
       "      <th>Breadth</th>\n",
       "      <th>PaperQuality</th>\n",
       "      <th>Angle</th>\n",
       "      <th>Foldings</th>\n",
       "      <th>Windspeed</th>\n",
       "      <th>Dominanthand</th>\n",
       "      <th>Distance</th>\n",
       "      <th>eligible</th>\n",
       "    </tr>\n",
       "  </thead>\n",
       "  <tbody>\n",
       "    <tr>\n",
       "      <th>0</th>\n",
       "      <td>Kevin</td>\n",
       "      <td>Som</td>\n",
       "      <td>29.0</td>\n",
       "      <td>20.0</td>\n",
       "      <td>A</td>\n",
       "      <td>U</td>\n",
       "      <td>8.0</td>\n",
       "      <td>On</td>\n",
       "      <td>L</td>\n",
       "      <td>5.0</td>\n",
       "      <td>Yes</td>\n",
       "    </tr>\n",
       "    <tr>\n",
       "      <th>1</th>\n",
       "      <td>Kevin</td>\n",
       "      <td>kevin</td>\n",
       "      <td>23.0</td>\n",
       "      <td>16.0</td>\n",
       "      <td>B</td>\n",
       "      <td>U</td>\n",
       "      <td>8.0</td>\n",
       "      <td>On</td>\n",
       "      <td>L</td>\n",
       "      <td>5.0</td>\n",
       "      <td>Yes</td>\n",
       "    </tr>\n",
       "    <tr>\n",
       "      <th>2</th>\n",
       "      <td>Kevin</td>\n",
       "      <td>RR</td>\n",
       "      <td>NaN</td>\n",
       "      <td>18.0</td>\n",
       "      <td>A</td>\n",
       "      <td>L</td>\n",
       "      <td>10.0</td>\n",
       "      <td>On</td>\n",
       "      <td>R</td>\n",
       "      <td>6.0</td>\n",
       "      <td>Yes</td>\n",
       "    </tr>\n",
       "    <tr>\n",
       "      <th>3</th>\n",
       "      <td>Priya</td>\n",
       "      <td>Nithya</td>\n",
       "      <td>27.0</td>\n",
       "      <td>20.0</td>\n",
       "      <td>A</td>\n",
       "      <td>U</td>\n",
       "      <td>10.0</td>\n",
       "      <td>On</td>\n",
       "      <td>R</td>\n",
       "      <td>4.0</td>\n",
       "      <td>No</td>\n",
       "    </tr>\n",
       "    <tr>\n",
       "      <th>4</th>\n",
       "      <td>Priya</td>\n",
       "      <td>Priya</td>\n",
       "      <td>29.5</td>\n",
       "      <td>17.5</td>\n",
       "      <td>B</td>\n",
       "      <td>U</td>\n",
       "      <td>5.0</td>\n",
       "      <td>Off</td>\n",
       "      <td>R</td>\n",
       "      <td>8.0</td>\n",
       "      <td>Yes</td>\n",
       "    </tr>\n",
       "  </tbody>\n",
       "</table>\n",
       "</div>"
      ],
      "text/plain": [
       "  Person Item_Identifier  Length  Breadth PaperQuality Angle  Foldings  \\\n",
       "0  Kevin             Som    29.0     20.0            A     U       8.0   \n",
       "1  Kevin           kevin    23.0     16.0            B     U       8.0   \n",
       "2  Kevin              RR     NaN     18.0            A     L      10.0   \n",
       "3  Priya          Nithya    27.0     20.0            A     U      10.0   \n",
       "4  Priya           Priya    29.5     17.5            B     U       5.0   \n",
       "\n",
       "  Windspeed  Dominanthand  Distance eligible  \n",
       "0         On            L       5.0      Yes  \n",
       "1         On            L       5.0      Yes  \n",
       "2         On            R       6.0      Yes  \n",
       "3         On            R       4.0       No  \n",
       "4        Off            R       8.0      Yes  "
      ]
     },
     "execution_count": 196,
     "metadata": {},
     "output_type": "execute_result"
    }
   ],
   "source": [
    "df = pd.DataFrame(flight)\n",
    "df[\"eligible\"] = np.where(df[\"Distance\"]>=5,\"Yes\",\"No\")\n",
    "df.head()"
   ]
  },
  {
   "cell_type": "code",
   "execution_count": 198,
   "id": "9329be45",
   "metadata": {},
   "outputs": [
    {
     "name": "stdout",
     "output_type": "stream",
     "text": [
      "   Person Item_Identifier  Length  Breadth PaperQuality Angle  Foldings  \\\n",
      "0   Kevin             Som    29.0     20.0            A     U       8.0   \n",
      "1   Kevin           kevin    23.0     16.0            B     U       8.0   \n",
      "2   Kevin              RR     NaN     18.0            A     L      10.0   \n",
      "3   Priya          Nithya    27.0     20.0            A     U      10.0   \n",
      "4   Priya           Priya    29.5     17.5            B     U       5.0   \n",
      "..    ...             ...     ...      ...          ...   ...       ...   \n",
      "83  Priya           Priya    29.5     17.5            B     U       5.0   \n",
      "84  Priya         Sathana     NaN     18.5            B     L       5.0   \n",
      "85  Priya       Yogashree    30.0     19.0          NaN     U       8.0   \n",
      "86   Giri            giri    25.0     17.0            B     U       8.0   \n",
      "87   Giri        Kiruthik    28.5     20.5            B     L       8.0   \n",
      "\n",
      "   Windspeed  Dominanthand  Distance eligible Is_eligible  \n",
      "0          On            L       5.0      Yes         Yes  \n",
      "1          On            L       5.0      Yes         Yes  \n",
      "2          On            R       6.0      Yes         Yes  \n",
      "3          On            R       4.0       No          No  \n",
      "4         Off            R       8.0      Yes         Yes  \n",
      "..        ...          ...       ...      ...         ...  \n",
      "83        Off            R       7.0      Yes         Yes  \n",
      "84        Off            R       5.0      Yes         Yes  \n",
      "85        Off            R       4.0       No          No  \n",
      "86         On            R       5.0      Yes         Yes  \n",
      "87        Off            R       7.0      Yes         Yes  \n",
      "\n",
      "[88 rows x 12 columns]\n"
     ]
    }
   ],
   "source": [
    "df=pd.DataFrame(flight)\n",
    "df[\"Is_eligible\"]=np.where(df[\"Distance\"]>=5,\"Yes\",\"No\")\n",
    "print(df)"
   ]
  },
  {
   "cell_type": "code",
   "execution_count": 2,
   "id": "5494a7f7",
   "metadata": {},
   "outputs": [
    {
     "name": "stdout",
     "output_type": "stream",
     "text": [
      "Accuracy: 0.806 (0.041)\n"
     ]
    }
   ],
   "source": [
    "from numpy import mean\n",
    "from numpy import std\n",
    "from sklearn.datasets import make_classification\n",
    "from sklearn.model_selection import cross_val_score\n",
    "from sklearn.model_selection import RepeatedStratifiedKFold\n",
    "from sklearn.ensemble import AdaBoostClassifier\n",
    "# define dataset\n",
    "X, y = make_classification(n_samples=1000, n_features=20, n_informative=15, n_redundant=5, random_state=6)\n",
    "# define the model\n",
    "model = AdaBoostClassifier()\n",
    "# evaluate the model\n",
    "cv = RepeatedStratifiedKFold(n_splits=10, n_repeats=3, random_state=1)\n",
    "n_scores = cross_val_score(model, X, y, scoring='accuracy', cv=cv, n_jobs=-1, error_score='raise')\n",
    "# report performance\n",
    "print('Accuracy: %.3f (%.3f)' % (mean(n_scores), std(n_scores)))"
   ]
  },
  {
   "cell_type": "code",
   "execution_count": null,
   "id": "aaad04a9",
   "metadata": {},
   "outputs": [],
   "source": []
  },
  {
   "cell_type": "code",
   "execution_count": null,
   "id": "a43cd218",
   "metadata": {},
   "outputs": [],
   "source": []
  }
 ],
 "metadata": {
  "kernelspec": {
   "display_name": "Python 3 (ipykernel)",
   "language": "python",
   "name": "python3"
  },
  "language_info": {
   "codemirror_mode": {
    "name": "ipython",
    "version": 3
   },
   "file_extension": ".py",
   "mimetype": "text/x-python",
   "name": "python",
   "nbconvert_exporter": "python",
   "pygments_lexer": "ipython3",
   "version": "3.9.7"
  }
 },
 "nbformat": 4,
 "nbformat_minor": 5
}
